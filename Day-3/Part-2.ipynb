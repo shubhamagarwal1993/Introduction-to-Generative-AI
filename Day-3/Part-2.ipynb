{
 "cells": [
  {
   "cell_type": "markdown",
   "metadata": {},
   "source": [
    "Capstone Project Title: \"Text Generation with Fine-tuned Pre-trained Language Models\"\n",
    "\n",
    "Project Description:\n",
    "For the capstone project, students will develop a text generation system using pre-trained language models. The project aims to showcase their expertise in fine-tuning a pre-trained language model and using it for generating coherent and contextually relevant text.\n",
    "\n",
    "Project Components:\n",
    "\n",
    "Data Collection and Preprocessing:\n",
    "\n",
    "Input Dataset: Use a publicly available dataset such as the \"IMDb Movie Reviews\" dataset, which contains movie reviews with labels for sentiment analysis.\n",
    "Data Preprocessing: Students will clean and preprocess the IMDb dataset to prepare it for fine-tuning.\n",
    "Model Selection and Fine-tuning:\n",
    "\n",
    "Model Choice: Students will select a pre-trained language model, like GPT-2, from the Hugging Face Model Hub.\n",
    "Fine-tuning: Using the IMDb dataset, students will fine-tune the selected model for sentiment classification. This step involves adjusting hyperparameters and training the model.\n",
    "Text Generation:\n",
    "\n",
    "After fine-tuning, students will implement a text generation pipeline using their fine-tuned model.\n",
    "Input Prompt: Users will be able to input movie review prompts, and the system will generate a coherent review text based on the sentiment provided in the prompt.\n",
    "Evaluation:\n",
    "\n",
    "Students will evaluate the generated text using sentiment analysis metrics to measure how well the generated reviews align with the provided prompts.\n",
    "Metrics: Metrics such as accuracy, precision, recall, and F1-score for sentiment classification will be used to assess the quality of the generated text."
   ]
  },
  {
   "cell_type": "code",
   "execution_count": null,
   "metadata": {},
   "outputs": [
    {
     "name": "stderr",
     "output_type": "stream",
     "text": [
      "/Users/mzihayat/VSC/Seshat/.conda/lib/python3.10/site-packages/tqdm/auto.py:21: TqdmWarning: IProgress not found. Please update jupyter and ipywidgets. See https://ipywidgets.readthedocs.io/en/stable/user_install.html\n",
      "  from .autonotebook import tqdm as notebook_tqdm\n"
     ]
    },
    {
     "ename": "",
     "evalue": "",
     "output_type": "error",
     "traceback": [
      "\u001b[1;31mCannot execute code, session has been disposed. Please try restarting the Kernel."
     ]
    },
    {
     "ename": "",
     "evalue": "",
     "output_type": "error",
     "traceback": [
      "\u001b[1;31mThe Kernel crashed while executing code in the the current cell or a previous cell. Please review the code in the cell(s) to identify a possible cause of the failure. Click <a href='https://aka.ms/vscodeJupyterKernelCrash'>here</a> for more info. View Jupyter <a href='command:jupyter.viewOutput'>log</a> for further details."
     ]
    }
   ],
   "source": [
    "from transformers import AutoModelForSequenceClassification, AutoTokenizer, TrainingArguments, Trainer\n",
    "from datasets import load_dataset\n",
    "\n",
    "# Load the IMDb dataset\n",
    "dataset = load_dataset(\"imdb\")\n",
    "train_data = dataset[\"train\"]\n",
    "test_data = dataset[\"test\"]\n",
    "\n",
    "# Define the models to compare\n",
    "models = [\n",
    "    {\"model_name\": \"gpt2\", \"num_labels\": 2},\n",
    "    {\"model_name\": \"bert-base-uncased\", \"num_labels\": 2},\n",
    "    {\"model_name\": \"roberta-base\", \"num_labels\": 2},\n",
    "]\n",
    "\n",
    "\n"
   ]
  },
  {
   "cell_type": "code",
   "execution_count": null,
   "metadata": {},
   "outputs": [],
   "source": [
    "results = {}\n",
    "\n",
    "for model_config in models:\n",
    "    model_name = model_config[\"model_name\"]\n",
    "    num_labels = model_config[\"num_labels\"]\n",
    "\n",
    "    # Load pre-trained model and tokenizer\n",
    "    model = AutoModelForSequenceClassification.from_pretrained(model_name, num_labels=num_labels)\n",
    "    tokenizer = AutoTokenizer.from_pretrained(model_name)\n",
    "\n",
    "    # Define training arguments and trainer\n",
    "    training_args = TrainingArguments(\n",
    "        per_device_train_batch_size=8,\n",
    "        output_dir=f\"./fine-tuned-model-{model_name}\",\n",
    "        evaluation_strategy=\"steps\",\n",
    "        eval_steps=100,\n",
    "        save_steps=500,\n",
    "        num_train_epochs=3,\n",
    "    )\n",
    "\n",
    "    # Fine-tune the model\n",
    "    trainer = Trainer(\n",
    "        model=model,\n",
    "        args=training_args,\n",
    "        train_dataset=train_data,\n",
    "        eval_dataset=test_data,\n",
    "    )\n",
    "\n",
    "    trainer.train()\n",
    "\n",
    "    # Evaluate the model on test data\n",
    "    eval_results = trainer.evaluate()\n",
    "\n",
    "    results[model_name] = eval_results\n",
    "\n",
    "# Compare evaluation results\n",
    "for model_name, eval_result in results.items():\n",
    "    print(f\"Model: {model_name}\")\n",
    "    print(f\"Accuracy: {eval_result['eval_accuracy']:.4f}\")\n",
    "    print(f\"Precision: {eval_result['eval_precision']:.4f}\")\n",
    "    print(f\"Recall: {eval_result['eval_recall']:.4f}\")\n",
    "    print(f\"F1 Score: {eval_result['eval_f1']:.4f}\")\n",
    "    print()"
   ]
  }
 ],
 "metadata": {
  "kernelspec": {
   "display_name": "Python 3",
   "language": "python",
   "name": "python3"
  },
  "language_info": {
   "codemirror_mode": {
    "name": "ipython",
    "version": 3
   },
   "file_extension": ".py",
   "mimetype": "text/x-python",
   "name": "python",
   "nbconvert_exporter": "python",
   "pygments_lexer": "ipython3",
   "version": "3.10.12"
  },
  "orig_nbformat": 4
 },
 "nbformat": 4,
 "nbformat_minor": 2
}
