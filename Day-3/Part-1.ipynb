{
 "cells": [
  {
   "cell_type": "markdown",
   "metadata": {},
   "source": [
    "\n",
    "- Our will focus on using Neural Networks to handle tasks related to **Natural Language Processing (NLP)**. \n",
    "\n",
    "- There are many NLP problems that we want computers to be able to solve:\n",
    "\n",
    "# Text Classification\n",
    "\n",
    "* Text classification is a common task where text sequences are categorized.\n",
    "    * **Examples**:\n",
    "        * Classifying e-mails into **spam** or **no-spam**.\n",
    "        * Categorizing news articles into **sport**, **business**, **politics**, etc.\n",
    "\n",
    "* In chatbot development, it's crucial to comprehend user intent. This is termed as **intent classification**.\n",
    "    * **Example**:\n",
    "        * User says: \"How's the weather tomorrow?\"\n",
    "        * Bot understands the intent as: **Check Weather**\n",
    "\n",
    "Note: With intent classification, there can often be a multitude of categories.\n",
    "\n",
    "# Sentiment Analysis\n",
    "\n",
    "* **Sentiment analysis** is typically a regression problem. The aim is to assign a numerical value representing the sentiment (how positive or negative) of a sentence.\n",
    "    * **Example**:\n",
    "        * Sentence: \"I love this product!\"\n",
    "        * Sentiment Score: +0.9 (where +1 is very positive and -1 is very negative)\n",
    "\n",
    "* An advanced form is **aspect-based sentiment analysis** (ABSA). Here, sentiment scores are given to different parts of the sentence.\n",
    "    * **Example**:\n",
    "        * Sentence: \"In this restaurant, I liked the cuisine, but the atmosphere was awful.\"\n",
    "        * Sentiments:\n",
    "            * Cuisine: +0.8\n",
    "            * Atmosphere: -0.9\n",
    "\n",
    "\n",
    "# Named Entity Recognition (NER)\n",
    "\n",
    "* **Named Entity Recognition** (NER) is about extracting specific entities from a given text.\n",
    "    * **Example**:\n",
    "        * Sentence: \"I need to fly to Paris tomorrow.\"\n",
    "        * Extracted Entities:\n",
    "            * Paris: **LOCATION**\n",
    "            * Tomorrow: **DATE**\n",
    "\n",
    "\n",
    "# Keyword Extraction\n",
    "\n",
    "* **Keyword extraction** is akin to NER. However, it focuses on automatically extracting words vital to a sentence's meaning, without any prior training on specific entity types.\n",
    "    * **Example**:\n",
    "        * Sentence: \"The Great Barrier Reef is a natural wonder located off the coast of Australia.\"\n",
    "        * Extracted Keywords: **Great Barrier Reef**, **natural wonder**, **coast**, **Australia**\n",
    "\n",
    "\n",
    "# Text Clustering\n",
    "\n",
    "* **Text clustering** involves grouping similar text sequences or sentences. It can be particularly helpful in contexts like grouping related inquiries in technical support interactions.\n",
    "    * **Example**:\n",
    "        * Tech Support Messages:\n",
    "            * \"My device won't turn on.\"\n",
    "            * \"I can't get my gadget to power up.\"\n",
    "            * \"How do I update my software?\"\n",
    "        * Clustered Results:\n",
    "            * Cluster 1: **Power issues** - \"My device won't turn on.\", \"I can't get my gadget to power up.\"\n",
    "            * Cluster 2: **Software updates** - \"How do I update my software?\"\n",
    "\n",
    "\n",
    "\n",
    "# Question Answering\n",
    "\n",
    "* **Question answering** is about a model's capability to respond to a specific query. Given a text passage and a question, the model identifies the segment of the text containing the answer or, in some cases, generates the answer text.\n",
    "    * **Example**:\n",
    "        * Passage: \"The Eiffel Tower is located in Paris and was completed in 1889.\"\n",
    "        * Question: \"When was the Eiffel Tower completed?\"\n",
    "        * Answer: \"The Eiffel Tower was completed in **1889**.\"\n",
    "\n",
    "\n",
    "\n",
    "# Text Generation\n",
    "\n",
    "* **Text Generation** pertains to a model's ability to produce novel text. It's like a classification task predicting the next character or word based on a given *text prompt*.\n",
    "    * **Example**:\n",
    "        * Prompt: \"Once upon a time,\"\n",
    "        * Generated continuation: \"in a land far away, there lived a wise old dragon.\"\n",
    "\n",
    "* Advanced models, like GPT-3, can tackle other NLP tasks such as classification via techniques like [prompt programming](https://towardsdatascience.com/software-3-0-how-prompting-will-change-the-rules-of-the-game-a982fbfe1e0) or [prompt engineering](https://medium.com/swlh/openai-gpt-3-and-prompt-engineering-dcdc2c5fcd29).\n",
    "\n",
    "\n",
    "\n",
    "# Text Summarization\n",
    "\n",
    "* **Text summarization** is about enabling a computer to \"read\" lengthy text and condense it into a short, coherent summary.\n",
    "    * **Example**:\n",
    "        * Original Text: \"The solar system consists of the Sun and the objects that orbit it. These objects include planets, dwarf planets, moons, and asteroids. The largest planet in the solar system is Jupiter, while Mercury is the smallest.\"\n",
    "        * Summarized Text: \"The solar system includes the Sun, planets, and other celestial objects. Jupiter is the largest planet, and Mercury is the smallest.\"\n",
    "\n",
    "# Machine Translation and NLP\n",
    "\n",
    "* **Machine translation** is a blend of understanding text in one language and generating text in another.\n",
    "    * **Traditional Approach**:\n",
    "        1. Use parsers to convert a sentence into a syntax tree.\n",
    "        2. Extract higher-level semantic structures for the sentence's meaning.\n",
    "        3. Generate the translated output based on this meaning and the target language's grammar.\n",
    "    * **Modern Approach**: Use neural networks for more effective results in many NLP tasks.\n",
    "\n",
    "> Traditionally, many NLP tasks were tackled using methods like grammars. However, the paradigm has shifted towards neural network-based solutions in recent years.\n",
    "\n",
    "* **Resources**:\n",
    "    - Classical methods can be found in the [Natural Language Processing Toolkit (NLTK)](https://www.nltk.org).\n",
    "    - The [NLTK Book](https://www.nltk.org/book/) provides an online guide on solving NLP tasks using NLTK.\n",
    "\n",
    "* **Course Approach**:\n",
    "    * We will predominantly focus on Neural Networks for NLP and incorporate NLTK as required.\n",
    "\n",
    "\n",
    "\n",
    "# Neural Networks: From Images to Text\n",
    "\n",
    "* **Tabular Data & Images**:\n",
    "    - We've explored using neural networks for fixed-size inputs like tabular data and images.\n",
    "    - Images have a predetermined input size.\n",
    "\n",
    "* **Text**:\n",
    "    - Text is a variable-length sequence, making it distinct.\n",
    "    - Textual patterns can be intricate. For instance, the distance between a subject and its negation can vary but should be recognized as a singular pattern.\n",
    "        * **Examples**:\n",
    "            - \"I do not like oranges.\"\n",
    "            - \"I do not like those big colorful tasty oranges.\"\n",
    "\n",
    "* **Solution for Text**:\n",
    "    - Traditional convolutional networks might not capture such complex patterns in text.\n",
    "    - To process language effectively, we introduce new neural architectures:\n",
    "        1. **Recurrent Networks**\n",
    "        2. **Transformers**"
   ]
  },
  {
   "cell_type": "markdown",
   "metadata": {},
   "source": [
    "<img src=\"./images/border.jpg\" height=\"10\" width=\"1500\" align=\"center\"/>"
   ]
  },
  {
   "cell_type": "markdown",
   "metadata": {},
   "source": [
    "# Natural Language Processing (NLP) Overview\n",
    "\n",
    "# What is NLP?\n",
    "\n",
    "- Natural Language Processing (NLP) is a branch of artificial intelligence (AI).\n",
    "- It focuses on the interaction between computers and human language.\n",
    "- NLP enables computers to understand, process, and generate human language as data.\n",
    "\n",
    "# Why NLP Matters\n",
    "\n",
    "- NLP has practical applications in various domains:\n",
    "  - Customer service chatbots\n",
    "  - Sentiment analysis of social media data\n",
    "  - Language translation\n",
    "  - Content generation\n",
    "- It bridges the gap between human communication and AI systems.\n",
    "\n",
    "# NLP Tasks\n",
    "\n",
    "- NLP involves a range of tasks, including:\n",
    "  - Understanding language structure\n",
    "  - Text completion\n",
    "  - Text generation\n",
    "  - Dialogue systems (chatbots)\n",
    "  - Story generation\n",
    "- These tasks have real-world applications and are continuously evolving.\n",
    "\n",
    "\n",
    "\n",
    "## Understanding Language as Data\n",
    "\n",
    "**Tokenization Example**\n",
    "\n",
    "- Tokenization is the process of splitting text into words or phrases.\n",
    "- It's a fundamental step in NLP.\n",
    "\n",
    "**Named Entity Recognition (NER) Demo**\n",
    "\n",
    "- Visit the [spaCy NER Demo](https://explosion.ai/demos/displacy-ent).\n",
    "- Input a sentence with named entities, e.g., \"Apple Inc. is headquartered in Cupertino, California.\"\n",
    "- Click \"Visualize\" to see entity recognition.\n",
    "\n",
    "---\n",
    "\n",
    "## Language Generation Tasks\n",
    "\n",
    "**Text Completion**\n",
    "\n",
    "- Demonstrated by Google Search's auto-suggestion feature.\n",
    "- It suggests the next word or phrase as you type your search query.\n",
    "\n",
    "**Text Generation**\n",
    "\n",
    "- Try the \"GPT-3 Playground\" by OpenAI.\n",
    "- Enter prompts like \"Once upon a time, in a land far, far away...\"\n",
    "- Click \"Create\" to generate creative text.\n",
    "\n",
    "---\n",
    "\n",
    "## Dialogue Systems\n",
    "\n",
    "**Chatbot Demo (Dialogflow)**\n",
    "\n",
    "- Go to [Dialogflow Console](https://console.cloud.google.com/dialogflow).\n",
    "- Create an agent with intents like \"Greeting.\"\n",
    "- Define responses like \"Hello! How can I assist you today?\"\n",
    "- Test your chatbot in real-time.\n",
    "\n",
    "---\n",
    "\n",
    "## Story Generation\n",
    "\n",
    "**Interactive Storytelling (AI Dungeon)**\n",
    "\n",
    "- Visit the [AI Dungeon](https://play.aidungeon.io/) website.\n",
    "- Choose a setting or genre (e.g., \"Fantasy\" or \"Mystery\").\n",
    "- Start a story with a sentence like \"You find yourself in a dark, enchanted forest...\"\n",
    "- AI generates the next part of the story for interactive storytelling.\n"
   ]
  },
  {
   "cell_type": "markdown",
   "metadata": {},
   "source": [
    "<img src=\"./images/border.jpg\" height=\"10\" width=\"1500\" align=\"center\"/>"
   ]
  },
  {
   "cell_type": "markdown",
   "metadata": {},
   "source": [
    "# Representing Text\n",
    "\n",
    "<img src=\"./images/ascii-character-map.png\" width=\"500\" align=\"center\"/>\n",
    "\n",
    "\n",
    "- To solve NLP tasks with neural networks, we need text representation as tensors.\n",
    "- Computers use encodings like ASCII or UTF-8 to map text characters to numbers.\n",
    "- Computers lack inherent understanding, and neural networks must learn meaning during training.\n",
    "- Two common approaches for text representation: character-level and word-level.\n",
    "- Regardless of approach, text is tokenized, converted to numbers, and fed into the network using one-hot encoding.\n",
    "\n",
    "---\n",
    "\n",
    "# N-Grams\n",
    "\n",
    "- Precise word meanings depend on context (e.g., \"neural network\" vs. \"fishing network\").\n",
    "- Address context by considering pairs of words or even tri-grams.\n",
    "- This approach, called n-grams, increases dictionary size.\n",
    "- N-grams can also be used with character-level representation.\n",
    "\n",
    "---\n",
    "\n",
    "# Bag-of-Words and TF/IDF\n",
    "\n",
    "<img src=\"images/bow.png\" width=\"90%\"/>\n",
    "\n",
    "\n",
    "- Text classification requires fixed-size vector representation.\n",
    "- Bag of Words (BoW) combines word representations, often using word frequencies.\n",
    "- BoW can indicate text content based on word frequencies.\n",
    "- TF/IDF (Term Frequency-Inverse Document Frequency) reduces the importance of common words.\n",
    "- TF/IDF considers word frequency across the document collection.\n",
    "\n",
    "---\n",
    "\n",
    "# Semantics of Text\n",
    "\n",
    "- Existing approaches cannot fully capture text semantics.\n",
    "- More powerful neural network models are required.\n",
    "- Explore further in attached notebooks."
   ]
  },
  {
   "cell_type": "markdown",
   "metadata": {},
   "source": [
    "<img src=\"./images/border.jpg\" height=\"10\" width=\"1500\" align=\"center\"/>"
   ]
  },
  {
   "cell_type": "code",
   "execution_count": 1,
   "metadata": {},
   "outputs": [],
   "source": [
    "import torch\n",
    "import torchtext\n",
    "import os\n",
    "import collections\n",
    "os.makedirs('./data',exist_ok=True)\n",
    "train_dataset, test_dataset = torchtext.datasets.AG_NEWS(root='./data')\n"
   ]
  },
  {
   "cell_type": "code",
   "execution_count": 2,
   "metadata": {},
   "outputs": [
    {
     "data": {
      "text/plain": [
       "(3,\n",
       " \"Wall St. Bears Claw Back Into the Black (Reuters) Reuters - Short-sellers, Wall Street's dwindling\\\\band of ultra-cynics, are seeing green again.\")"
      ]
     },
     "execution_count": 2,
     "metadata": {},
     "output_type": "execute_result"
    }
   ],
   "source": [
    "classes = ['World', 'Sports', 'Business', 'Sci/Tech']\n",
    "list(train_dataset)[0]"
   ]
  },
  {
   "cell_type": "markdown",
   "metadata": {},
   "source": [
    "Because datasets are iterators, if we want to use the data multiple times we need to convert it to list:"
   ]
  },
  {
   "cell_type": "code",
   "execution_count": 3,
   "metadata": {},
   "outputs": [],
   "source": [
    "train_dataset, test_dataset = torchtext.datasets.AG_NEWS(root='./data')\n",
    "train_dataset = list(train_dataset)\n",
    "test_dataset = list(test_dataset)"
   ]
  },
  {
   "cell_type": "code",
   "execution_count": 4,
   "metadata": {},
   "outputs": [
    {
     "data": {
      "text/plain": [
       "['he', 'said', 'hello']"
      ]
     },
     "execution_count": 4,
     "metadata": {},
     "output_type": "execute_result"
    }
   ],
   "source": [
    "tokenizer = torchtext.data.utils.get_tokenizer('basic_english')\n",
    "tokenizer('He said: hello')"
   ]
  },
  {
   "cell_type": "code",
   "execution_count": 5,
   "metadata": {},
   "outputs": [],
   "source": [
    "counter = collections.Counter()\n",
    "for (label, line) in train_dataset:\n",
    "    counter.update(tokenizer(line))\n",
    "vocab = torchtext.vocab.vocab(counter, min_freq=1)"
   ]
  },
  {
   "cell_type": "markdown",
   "metadata": {},
   "source": [
    "Using vocabulary, we can easily encode out tokenized string into a set of numbers:"
   ]
  },
  {
   "cell_type": "code",
   "execution_count": 6,
   "metadata": {},
   "outputs": [
    {
     "name": "stdout",
     "output_type": "stream",
     "text": [
      "Vocab size if 95810\n"
     ]
    },
    {
     "data": {
      "text/plain": [
       "[599, 3279, 97, 1220, 329, 225, 7368]"
      ]
     },
     "execution_count": 6,
     "metadata": {},
     "output_type": "execute_result"
    }
   ],
   "source": [
    "vocab_size = len(vocab)\n",
    "print(f\"Vocab size if {vocab_size}\")\n",
    "\n",
    "stoi = vocab.get_stoi() # dict to convert tokens to indices\n",
    "\n",
    "def encode(x):\n",
    "    return [stoi[s] for s in tokenizer(x)]\n",
    "\n",
    "encode('I love to play with my words')"
   ]
  },
  {
   "cell_type": "markdown",
   "metadata": {},
   "source": [
    "- BoW is a widely used traditional vector representation in text analysis.\n",
    "- Each word is associated with a vector index.\n",
    "- Vector elements store the count of word occurrences in a given document.\n",
    "![Image showing how a bag of words vector representation is represented in memory.](images/bag-of-words-example.png)"
   ]
  },
  {
   "cell_type": "code",
   "execution_count": 7,
   "metadata": {},
   "outputs": [
    {
     "data": {
      "text/plain": [
       "array([[1, 1, 0, 2, 0, 0, 0, 0, 0]])"
      ]
     },
     "execution_count": 7,
     "metadata": {},
     "output_type": "execute_result"
    }
   ],
   "source": [
    "from sklearn.feature_extraction.text import CountVectorizer\n",
    "vectorizer = CountVectorizer()\n",
    "corpus = [\n",
    "        'I like hot dogs.',\n",
    "        'The dog ran fast.',\n",
    "        'Its hot outside.',\n",
    "    ]\n",
    "vectorizer.fit_transform(corpus)\n",
    "vectorizer.transform(['My dog likes hot dogs on a hot day.']).toarray()"
   ]
  },
  {
   "cell_type": "markdown",
   "metadata": {},
   "source": [
    "## Word Embeddings\n",
    "\n",
    "- When training classifiers based on BoW or TF/IDF, we work with high-dimensional one-hot encoded vectors of length `vocab_size`.\n",
    "- One-hot encoding is memory-inefficient and treats words independently, lacking semantic similarity.\n",
    "\n",
    "\n",
    "![Embedding and Semantic Similarity](images/NLP1.webp)\n",
    "\n",
    "- **Embedding** is the idea of representing words as lower-dimensional dense vectors that capture semantic meaning.\n",
    "- It reduces the dimensionality of word vectors.\n",
    "\n",
    "- The embedding layer takes a word as input and produces an output vector of specified `embedding_size`.\n",
    "- Unlike one-hot encoding, it takes a word number as input, avoiding large one-hot-encoded vectors.\n",
    "\n",
    "- Using an embedding layer as the first layer in a classifier network transforms it from a bag-of-words model to an **embedding bag** model.\n",
    "- In this model, words are converted into embeddings, and an aggregate function (e.g., `sum`, `average`, `max`) is applied to these embeddings.\n",
    "\n",
    "![Embedding Classifier Example](images/embedding-classifier-example.png)\n"
   ]
  },
  {
   "cell_type": "markdown",
   "metadata": {},
   "source": [
    "#### Word Embeddings\n",
    "\n",
    "- Early NLP models used word embeddings.\n",
    "- Each word mapped to a fixed-size vector.\n",
    "- Word2Vec, GloVe, and FastText were popular methods.\n",
    "\n",
    "\n",
    "- Word2Vec\n",
    "\n",
    "  - Word2Vec is a popular word embedding technique in natural language processing (NLP).\n",
    "  - It transforms words into dense vectors in a continuous vector space.\n",
    "  - Two main approaches: Skip-gram and Continuous Bag of Words (CBOW).\n",
    "  - Word2Vec captures semantic relationships and context between words.\n",
    "  - Used for various NLP tasks, including text classification, sentiment analysis, and recommendation systems."
   ]
  },
  {
   "cell_type": "code",
   "execution_count": 2,
   "metadata": {},
   "outputs": [
    {
     "name": "stdout",
     "output_type": "stream",
     "text": [
      "Collecting gensim\n",
      "  Obtaining dependency information for gensim from https://files.pythonhosted.org/packages/43/21/21f993356303c4c92352d9e7c732f715e86e7b0bc04674be71bb1e9bb05b/gensim-4.3.2-cp310-cp310-macosx_10_9_x86_64.whl.metadata\n",
      "  Downloading gensim-4.3.2-cp310-cp310-macosx_10_9_x86_64.whl.metadata (8.4 kB)\n",
      "Requirement already satisfied: numpy>=1.18.5 in /Users/mzihayat/VSC/Seshat/.conda/lib/python3.10/site-packages (from gensim) (1.25.2)\n",
      "Requirement already satisfied: scipy>=1.7.0 in /Users/mzihayat/VSC/Seshat/.conda/lib/python3.10/site-packages (from gensim) (1.11.2)\n",
      "Collecting smart-open>=1.8.1 (from gensim)\n",
      "  Obtaining dependency information for smart-open>=1.8.1 from https://files.pythonhosted.org/packages/fc/d9/d97f1db64b09278aba64e8c81b5d322d436132df5741c518f3823824fae0/smart_open-6.4.0-py3-none-any.whl.metadata\n",
      "  Downloading smart_open-6.4.0-py3-none-any.whl.metadata (21 kB)\n",
      "Downloading gensim-4.3.2-cp310-cp310-macosx_10_9_x86_64.whl (24.1 MB)\n",
      "\u001b[2K   \u001b[90m━━━━━━━━━━━━━━━━━━━━━━━━━━━━━━━━━━━━━━━━\u001b[0m \u001b[32m24.1/24.1 MB\u001b[0m \u001b[31m7.6 MB/s\u001b[0m eta \u001b[36m0:00:00\u001b[0m00:01\u001b[0m00:01\u001b[0m\n",
      "\u001b[?25hDownloading smart_open-6.4.0-py3-none-any.whl (57 kB)\n",
      "\u001b[2K   \u001b[90m━━━━━━━━━━━━━━━━━━━━━━━━━━━━━━━━━━━━━━━━\u001b[0m \u001b[32m57.0/57.0 kB\u001b[0m \u001b[31m2.0 MB/s\u001b[0m eta \u001b[36m0:00:00\u001b[0m\n",
      "\u001b[?25hInstalling collected packages: smart-open, gensim\n",
      "Successfully installed gensim-4.3.2 smart-open-6.4.0\n",
      "Note: you may need to restart the kernel to use updated packages.\n"
     ]
    }
   ],
   "source": [
    "%pip install gensim"
   ]
  },
  {
   "cell_type": "code",
   "execution_count": 3,
   "metadata": {},
   "outputs": [
    {
     "name": "stdout",
     "output_type": "stream",
     "text": [
      "Vector for 'learning':\n",
      " [ 7.0887972e-03 -1.5679300e-03  7.9474989e-03 -9.4886590e-03\n",
      " -8.0294991e-03 -6.6403709e-03 -4.0034545e-03  4.9892161e-03\n",
      " -3.8135587e-03 -8.3199050e-03  8.4117772e-03 -3.7470020e-03\n",
      "  8.6086961e-03 -4.8957514e-03  3.9185942e-03  4.9220170e-03\n",
      "  2.3926091e-03 -2.8188038e-03  2.8491246e-03 -8.2562361e-03\n",
      " -2.7655398e-03 -2.5911583e-03  7.2490061e-03 -3.4634031e-03\n",
      " -6.5997029e-03  4.3404270e-03 -4.7448516e-04 -3.5975564e-03\n",
      "  6.8824720e-03  3.8723124e-03 -3.9002013e-03  7.7188847e-04\n",
      "  9.1435025e-03  7.7546560e-03  6.3618720e-03  4.6673026e-03\n",
      "  2.3844899e-03 -1.8416261e-03 -6.3712932e-03 -3.0181051e-04\n",
      " -1.5653884e-03 -5.7228567e-04 -6.2628710e-03  7.4340473e-03\n",
      " -6.5914928e-03 -7.2392775e-03 -2.7571463e-03 -1.5154004e-03\n",
      " -7.6357173e-03  6.9824100e-04 -5.3261113e-03 -1.2755442e-03\n",
      " -7.3651113e-03  1.9605684e-03  3.2731986e-03 -2.3138524e-05\n",
      " -5.4483581e-03 -1.7260861e-03  7.0849168e-03  3.7362587e-03\n",
      " -8.8810492e-03 -3.4135508e-03  2.3541022e-03  2.1380198e-03\n",
      " -9.4640078e-03  4.5711659e-03 -8.6569972e-03 -7.3870681e-03\n",
      "  3.4831120e-03 -3.4709584e-03  3.5644709e-03  8.8940905e-03\n",
      " -3.5743224e-03  9.3204249e-03  1.7110384e-03  9.8477742e-03\n",
      "  5.7050432e-03 -9.1494834e-03 -3.3277308e-03  6.5301750e-03\n",
      "  5.6027793e-03  8.7055154e-03  6.9261026e-03  8.0388878e-03\n",
      " -9.8230084e-03  4.2988253e-03 -5.0300765e-03  3.5123860e-03\n",
      "  6.0566878e-03  4.3921317e-03  7.5123594e-03  1.4977157e-03\n",
      " -1.2649416e-03  5.7684006e-03 -5.6395675e-03  3.8591625e-05\n",
      "  9.4565870e-03 -5.4812501e-03  3.8142789e-03 -8.1130210e-03]\n",
      "Words similar to 'processing':\n",
      " [('natural', 0.06798139214515686), ('awesome', 0.033639226108789444)]\n"
     ]
    }
   ],
   "source": [
    "# Import necessary libraries\n",
    "from gensim.models import Word2Vec\n",
    "\n",
    "# Sample sentences for training the Word2Vec model\n",
    "sentences = [\n",
    "    [\"machine\", \"learning\", \"is\", \"awesome\"],\n",
    "    [\"word\", \"embeddings\", \"capture\", \"context\"],\n",
    "    [\"natural\", \"language\", \"processing\", \"rocks\"]\n",
    "]\n",
    "\n",
    "# Train a Word2Vec model\n",
    "model = Word2Vec(sentences, vector_size=100, window=5, min_count=1, sg=0)\n",
    "\n",
    "# Get the word vector for a specific word\n",
    "word_vector = model.wv['learning']\n",
    "print(\"Vector for 'learning':\\n\", word_vector)\n",
    "\n",
    "# Find similar words to a given word\n",
    "similar_words = model.wv.most_similar('processing', topn=2)\n",
    "print(\"Words similar to 'processing':\\n\", similar_words)\n"
   ]
  },
  {
   "cell_type": "markdown",
   "metadata": {},
   "source": [
    "\n",
    "#### Limitations of Word Embeddings\n",
    "  - Fixed-length vectors don't capture context well.\n",
    "  - Struggle with polysemy (multiple meanings).\n",
    "  - Limited understanding of word relationships.\n",
    "\n",
    "#### Transformers\n",
    "\n",
    "  - The Transformer architecture revolutionized NLP.\n",
    "  - Introduced self-attention mechanisms.\n",
    "  - Captures context and dependencies effectively.\n",
    "\n",
    "\n"
   ]
  },
  {
   "cell_type": "markdown",
   "metadata": {},
   "source": [
    "# Transformer Timeline\n",
    "\n",
    "\n",
    "![Embedding Classifier Example](images/NLP2.svg)\n",
    "\n",
    "- June 2017\n",
    "  - Introduction of the Transformer architecture\n",
    "\n",
    "- June 2018\n",
    "  - **GPT** (Generative Pretrained Transformer)\n",
    "  - First pretrained Transformer model\n",
    "  - Used for fine-tuning on NLP tasks\n",
    "  - Achieved state-of-the-art results\n",
    "\n",
    "- October 2018\n",
    "  - **BERT** (Bidirectional Encoder Representations from Transformers)\n",
    "  - Large pretrained model\n",
    "  - Designed for better sentence summarization\n",
    "  - More on this in the next chapter!\n",
    "\n",
    "- February 2019\n",
    "  - **GPT-2**\n",
    "  - Improved and larger version of GPT\n",
    "  - Delayed public release due to ethical concerns\n",
    "\n",
    "- October 2019\n",
    "  - **DistilBERT**\n",
    "  - Distilled version of BERT\n",
    "  - 60% faster, 40% lighter in memory\n",
    "  - Still retains 97% of BERT's performance\n",
    "\n",
    "- **BART and T5**\n",
    "  - Large pretrained models\n",
    "  - Same architecture as the original Transformer\n",
    "\n",
    "- May 2020\n",
    "  - **GPT-3**\n",
    "  - Even bigger than GPT-2\n",
    "  - Performs well on various tasks without fine-tuning\n",
    "  - Known for zero-shot learning\n",
    "\n",
    "# Transformer Model Types\n",
    "\n",
    "- **GPT-like**\n",
    "  - Also known as auto-regressive Transformer models\n",
    "\n",
    "- **BERT-like**\n",
    "  - Also known as auto-encoding Transformer models\n",
    "\n",
    "- **BART/T5-like**\n",
    "  - Also known as sequence-to-sequence Transformer models"
   ]
  },
  {
   "cell_type": "markdown",
   "metadata": {},
   "source": [
    "# Pretrained Transformer Models\n",
    "\n",
    "- All mentioned models (GPT, BERT, BART, T5, etc.) are pretrained language models.\n",
    "- Trained on large amounts of raw text data.\n",
    "- Self-supervised learning: Objective computed automatically from inputs, no human labeling required.\n",
    "\n",
    "- Limitations of Pretrained Models\n",
    "\n",
    "    - Pretrained models have statistical language understanding.\n",
    "    - Not directly useful for specific tasks.\n",
    "    - Require transfer learning for practical applications.\n",
    "\n",
    "- Transfer Learning\n",
    "\n",
    "  - Transfer learning fine-tunes pretrained models for specific tasks.\n",
    "  - Supervised learning with human-annotated labels.\n",
    "  - Improves model performance and adaptability.\n",
    "\n",
    "- Example Task: Causal Language Modeling\n",
    "\n",
    "  - Task: Predict the next word in a sentence given n previous words.\n",
    "  - Output depends on past and present inputs, not future ones.\n",
    "\n",
    "![Embedding Classifier Example](images/NLP3.svg)\n",
    "\n",
    "\n",
    "  - Another example is masked language modeling, in which the model predicts a masked word in the sentence.\n",
    "\n",
    "\n",
    "\n",
    "![Embedding Classifier Example](images/NLP4.svg)\n"
   ]
  },
  {
   "cell_type": "markdown",
   "metadata": {},
   "source": [
    "# Transformers are big models\n",
    "\n",
    "- Improving performance often involves:\n",
    "  - Increasing model sizes\n",
    "  - Expanding pretrained data\n",
    "\n",
    "![Embedding Classifier Example](images/NLP5.png)\n",
    "\n",
    "- Size vs. Performance\n",
    "  - Larger models tend to perform better.\n",
    "  - But training large models is resource-intensive.\n",
    "\n",
    "\n",
    "- Environmental Impact\n",
    "\n",
    "  - Large models have a significant carbon footprint.\n",
    "  - Time, compute resources, and environmental costs.\n",
    "  - Even efforts to reduce impact still result in substantial costs.\n",
    "\n",
    "\n",
    "\n",
    "- The Need for Sharing\n",
    "  - Sharing pretrained models is crucial.\n",
    "  - Reduces overall compute cost and carbon footprint.\n",
    "  - Benefits research teams, student organizations, and companies.\n",
    "\n",
    "---\n",
    "\n",
    "# Evaluate Carbon Footprint\n",
    "\n",
    "- Tools available to evaluate carbon footprint:\n",
    "  - ML CO2 Impact\n",
    "  - Code Carbon (integrated in 🤗 Transformers)\n",
    "  \n",
    "![Embedding Classifier Example](images/NLP6.svg)\n"
   ]
  },
  {
   "cell_type": "markdown",
   "metadata": {},
   "source": [
    "# Pretraining vs. Fine-Tuning\n",
    "\n",
    "- Pretraining\n",
    "    - Pretraining uses a large corpus of data.\n",
    "    - Training can take several weeks.\n",
    "\n",
    "\n",
    "![Embedding Classifier Example](images/NLP7.svg)\n",
    "\n",
    "- Fine-Tuning\n",
    "  - Fine-tuning occurs after pretraining.\n",
    "  - Utilizes a pretrained language model.\n",
    "  - Additional training with a task-specific dataset.\n",
    "\n",
    "\n",
    "![Embedding Classifier Example](images/NLP8.svg)\n",
    "\n",
    "- Why Not Direct Training?\n",
    "  - Pretrained models have some similarities with fine-tuning data.\n",
    "  - Fine-tuning leverages knowledge from pretraining.\n",
    "  - Requires less data, time, and resources.\n",
    "\n",
    "- Example Scenario\n",
    "  - Pretrained model in English.\n",
    "  - Fine-tuning on arXiv corpus.\n",
    "  - Creates a science/research-based model.\n",
    "  - Limited data needed for fine-tuning.\n",
    "\n",
    "- Transfer Learning\n",
    "\n",
    "  - Knowledge from pretraining \"transferred\" to fine-tuning.\n",
    "  - Effective way to adapt pretrained models to specific tasks.\n",
    "\n",
    "\n"
   ]
  },
  {
   "cell_type": "markdown",
   "metadata": {},
   "source": [
    "# General architecture\n",
    "\n",
    "- Two main components:\n",
    "  - Autoencoders\n",
    "  - Attention layers\n",
    "\n",
    "#### Autoencoders\n",
    "\n",
    "![Transformer Architecture](images/NLP10.svg)\n",
    "\n",
    "#### Attention Layers\n",
    "\n",
    "- Attention layers instruct the model to focus on specific words in a sentence while processing the representation of each word.\n",
    "- They help the model pay attention to certain words while ignoring others.\n",
    "- In the context of translation, attention layers are crucial because they allow the model to consider adjacent words for proper translation.\n",
    "- For example, when translating from English to French, attention is needed for subjects and gender agreement.\n",
    "- Attention layers ensure that words' meanings are deeply influenced by their surrounding context.\n",
    "- They are essential for handling complex sentences and grammar rules in natural language processing tasks.\n",
    "- Understanding attention layers is a foundation for comprehending the Transformer architecture.\n"
   ]
  },
  {
   "cell_type": "markdown",
   "metadata": {},
   "source": [
    "# The Transformer\n",
    "\n",
    "![Transformer Architecture](images/NLP9.svg)\n",
    "\n",
    "- Transformer architecture designed for translation.\n",
    "- Encoder processes inputs (sentences) in one language.\n",
    "- Decoder generates translations in the target language.\n",
    "\n",
    "-  Attention Mechanism in Encoder\n",
    "   - Encoder uses attention layers.\n",
    "   - Can attend to all words in a sentence.\n",
    "   - Considers both preceding and following words.\n",
    "  \n",
    "- Attention Mechanism in Decoder\n",
    "\n",
    "  - Decoder works sequentially.\n",
    "  - Processes words one by one.\n",
    "  - Limited to using words before the current word.\n",
    "\n",
    "- Training Speed-up\n",
    "\n",
    "  - During training, the decoder sees the entire target sentence.\n",
    "  - It can't use future words for prediction.\n",
    "  - For example, when predicting the fourth word, it only has access to words 1 to 3.\n"
   ]
  },
  {
   "cell_type": "code",
   "execution_count": 1,
   "metadata": {},
   "outputs": [
    {
     "name": "stderr",
     "output_type": "stream",
     "text": [
      "/Users/mzihayat/VSC/Seshat/.conda/lib/python3.10/site-packages/tqdm/auto.py:21: TqdmWarning: IProgress not found. Please update jupyter and ipywidgets. See https://ipywidgets.readthedocs.io/en/stable/user_install.html\n",
      "  from .autonotebook import tqdm as notebook_tqdm\n",
      "Downloading (…)solve/main/vocab.txt: 100%|██████████| 232k/232k [00:00<00:00, 15.8MB/s]\n",
      "Downloading (…)okenizer_config.json: 100%|██████████| 28.0/28.0 [00:00<00:00, 90.9kB/s]\n",
      "Downloading (…)lve/main/config.json: 100%|██████████| 570/570 [00:00<00:00, 1.66MB/s]\n",
      "Downloading model.safetensors: 100%|██████████| 440M/440M [00:55<00:00, 7.97MB/s] \n"
     ]
    },
    {
     "name": "stdout",
     "output_type": "stream",
     "text": [
      "Word Embeddings Shape: torch.Size([1, 8, 768])\n"
     ]
    }
   ],
   "source": [
    "import torch\n",
    "from transformers import BertTokenizer, BertModel\n",
    "\n",
    "# Load pre-trained BERT tokenizer and model\n",
    "model_name = \"bert-base-uncased\"\n",
    "tokenizer = BertTokenizer.from_pretrained(model_name)\n",
    "model = BertModel.from_pretrained(model_name)\n",
    "\n",
    "# Input text\n",
    "text = \"Hello, how are you doing today?\"\n",
    "\n",
    "# Tokenize input text\n",
    "tokens = tokenizer.tokenize(text)\n",
    "input_ids = tokenizer.convert_tokens_to_ids(tokens)\n",
    "input_ids = torch.tensor(input_ids).unsqueeze(0)  # Add batch dimension\n",
    "\n",
    "# Forward pass through BERT model\n",
    "outputs = model(input_ids)\n",
    "\n",
    "# Get the output embeddings (contextualized word representations)\n",
    "word_embeddings = outputs.last_hidden_state\n",
    "\n",
    "# Print the shape of the word embeddings\n",
    "print(\"Word Embeddings Shape:\", word_embeddings.shape)\n"
   ]
  },
  {
   "cell_type": "markdown",
   "metadata": {},
   "source": [
    "# BERT Text Classification \n",
    "\n",
    "\n",
    "\n",
    "## Step 1: Load Pre-trained BERT\n",
    "\n",
    "- Import necessary libraries.\n",
    "- Load pre-trained BERT tokenizer and model (e.g., `bert-base-uncased`).\n"
   ]
  },
  {
   "cell_type": "code",
   "execution_count": 3,
   "metadata": {},
   "outputs": [
    {
     "name": "stderr",
     "output_type": "stream",
     "text": [
      "Some weights of BertForSequenceClassification were not initialized from the model checkpoint at bert-base-uncased and are newly initialized: ['classifier.weight', 'classifier.bias']\n",
      "You should probably TRAIN this model on a down-stream task to be able to use it for predictions and inference.\n"
     ]
    }
   ],
   "source": [
    "import torch\n",
    "from transformers import BertTokenizer, BertForSequenceClassification\n",
    "from torch.utils.data import DataLoader, TensorDataset\n",
    "from sklearn.metrics import classification_report, accuracy_score\n",
    "import matplotlib.pyplot as plt\n",
    "import numpy as np\n",
    "\n",
    "# Load pre-trained BERT tokenizer and model\n",
    "model_name = \"bert-base-uncased\"\n",
    "tokenizer = BertTokenizer.from_pretrained(model_name)\n",
    "model = BertForSequenceClassification.from_pretrained(model_name, num_labels=2)  # 2 for binary classification\n"
   ]
  },
  {
   "cell_type": "markdown",
   "metadata": {},
   "source": [
    "\n",
    "## Step 2: Prepare Training Data\n",
    "\n",
    "- Define sample training data and labels.\n",
    "- Tokenize and encode the training data using the BERT tokenizer."
   ]
  },
  {
   "cell_type": "code",
   "execution_count": 4,
   "metadata": {},
   "outputs": [],
   "source": [
    "# Sample training data\n",
    "texts = [\"This is a positive review.\", \"This is a negative review.\"]\n",
    "labels = [1, 0]  # 1 for positive, 0 for negative\n"
   ]
  },
  {
   "cell_type": "markdown",
   "metadata": {},
   "source": [
    "## Step 3: Create DataLoader\n",
    "\n",
    "- Create a DataLoader for efficient training.\n",
    "- Set batch size and shuffle the data."
   ]
  },
  {
   "cell_type": "code",
   "execution_count": 5,
   "metadata": {},
   "outputs": [
    {
     "name": "stderr",
     "output_type": "stream",
     "text": [
      "Truncation was not explicitly activated but `max_length` is provided a specific value, please use `truncation=True` to explicitly truncate examples to max length. Defaulting to 'longest_first' truncation strategy. If you encode pairs of sequences (GLUE-style) with the tokenizer you can select this strategy more precisely by providing a specific strategy to `truncation`.\n",
      "/Users/mzihayat/VSC/Seshat/.conda/lib/python3.10/site-packages/transformers/tokenization_utils_base.py:2418: FutureWarning: The `pad_to_max_length` argument is deprecated and will be removed in a future version, use `padding=True` or `padding='longest'` to pad to the longest sequence in the batch, or use `padding='max_length'` to pad to a max length. In this case, you can give a specific length with `max_length` (e.g. `max_length=45`) or leave max_length to None to pad to the maximal input size of the model (e.g. 512 for Bert).\n",
      "  warnings.warn(\n"
     ]
    }
   ],
   "source": [
    "\n",
    "# Tokenize and encode the training data\n",
    "input_ids = []\n",
    "attention_masks = []\n",
    "\n",
    "for text in texts:\n",
    "    encoded_text = tokenizer.encode_plus(\n",
    "        text,\n",
    "        add_special_tokens=True,\n",
    "        max_length=128,\n",
    "        pad_to_max_length=True,\n",
    "        return_attention_mask=True,\n",
    "        return_tensors=\"pt\"\n",
    "    )\n",
    "    input_ids.append(encoded_text['input_ids'])\n",
    "    attention_masks.append(encoded_text['attention_mask'])\n",
    "\n",
    "input_ids = torch.cat(input_ids, dim=0)\n",
    "attention_masks = torch.cat(attention_masks, dim=0)\n",
    "labels = torch.tensor(labels)\n",
    "\n",
    "# Create a DataLoader for training data\n",
    "batch_size = 2\n",
    "train_dataset = TensorDataset(input_ids, attention_masks, labels)\n",
    "train_loader = DataLoader(train_dataset, batch_size=batch_size, shuffle=True)\n"
   ]
  },
  {
   "cell_type": "markdown",
   "metadata": {},
   "source": [
    "\n",
    "## Step 4: Fine-Tune BERT\n",
    "\n",
    "- Set up optimization (e.g., AdamW) and training parameters.\n",
    "- Iterate through epochs, compute loss, and update model weights."
   ]
  },
  {
   "cell_type": "code",
   "execution_count": 6,
   "metadata": {},
   "outputs": [
    {
     "name": "stdout",
     "output_type": "stream",
     "text": [
      "Epoch 1/3, Average Loss: 0.7251\n",
      "Epoch 2/3, Average Loss: 0.6729\n",
      "Epoch 3/3, Average Loss: 0.6761\n"
     ]
    }
   ],
   "source": [
    "\n",
    "\n",
    "# Fine-tuning BERT on the classification task (you can adjust the number of training epochs)\n",
    "optimizer = torch.optim.AdamW(model.parameters(), lr=2e-5)\n",
    "num_epochs = 3\n",
    "\n",
    "model.train()\n",
    "for epoch in range(num_epochs):\n",
    "    total_loss = 0\n",
    "    for batch in train_loader:\n",
    "        input_ids, attention_mask, label = batch\n",
    "        optimizer.zero_grad()\n",
    "        outputs = model(input_ids, attention_mask=attention_mask, labels=label)\n",
    "        loss = outputs.loss\n",
    "        total_loss += loss.item()\n",
    "        loss.backward()\n",
    "        optimizer.step()\n",
    "    average_loss = total_loss / len(train_loader)\n",
    "    print(f\"Epoch {epoch + 1}/{num_epochs}, Average Loss: {average_loss:.4f}\")\n",
    "\n",
    "\n"
   ]
  },
  {
   "cell_type": "markdown",
   "metadata": {},
   "source": [
    "\n",
    "## Step 5: Evaluation\n",
    "\n",
    "- Switch to evaluation mode.\n",
    "- Tokenize and encode sample test data.\n",
    "- Make predictions and calculate classification metrics."
   ]
  },
  {
   "cell_type": "code",
   "execution_count": 7,
   "metadata": {},
   "outputs": [
    {
     "name": "stdout",
     "output_type": "stream",
     "text": [
      "Predicted Labels: tensor([1, 1])\n",
      "True Labels: [1 0]\n",
      "Classification Report:\n",
      "               precision    recall  f1-score   support\n",
      "\n",
      "           0       0.00      0.00      0.00         1\n",
      "           1       0.50      1.00      0.67         1\n",
      "\n",
      "    accuracy                           0.50         2\n",
      "   macro avg       0.25      0.50      0.33         2\n",
      "weighted avg       0.25      0.50      0.33         2\n",
      "\n",
      "Accuracy: 0.5\n"
     ]
    },
    {
     "name": "stderr",
     "output_type": "stream",
     "text": [
      "/Users/mzihayat/VSC/Seshat/.conda/lib/python3.10/site-packages/sklearn/metrics/_classification.py:1469: UndefinedMetricWarning: Precision and F-score are ill-defined and being set to 0.0 in labels with no predicted samples. Use `zero_division` parameter to control this behavior.\n",
      "  _warn_prf(average, modifier, msg_start, len(result))\n",
      "/Users/mzihayat/VSC/Seshat/.conda/lib/python3.10/site-packages/sklearn/metrics/_classification.py:1469: UndefinedMetricWarning: Precision and F-score are ill-defined and being set to 0.0 in labels with no predicted samples. Use `zero_division` parameter to control this behavior.\n",
      "  _warn_prf(average, modifier, msg_start, len(result))\n",
      "/Users/mzihayat/VSC/Seshat/.conda/lib/python3.10/site-packages/sklearn/metrics/_classification.py:1469: UndefinedMetricWarning: Precision and F-score are ill-defined and being set to 0.0 in labels with no predicted samples. Use `zero_division` parameter to control this behavior.\n",
      "  _warn_prf(average, modifier, msg_start, len(result))\n"
     ]
    },
    {
     "data": {
      "image/png": "[encoded data removed]",
      "text/plain": [
       "<Figure size 600x400 with 1 Axes>"
      ]
     },
     "metadata": {},
     "output_type": "display_data"
    }
   ],
   "source": [
    "# Evaluation\n",
    "model.eval()\n",
    "test_texts = [\"This movie is great.\", \"I didn't like the film.\"]\n",
    "true_labels = [1, 0]\n",
    "\n",
    "test_input_ids = []\n",
    "test_attention_masks = []\n",
    "\n",
    "for text in test_texts:\n",
    "    encoded_text = tokenizer.encode_plus(\n",
    "        text,\n",
    "        add_special_tokens=True,\n",
    "        max_length=128,\n",
    "        pad_to_max_length=True,\n",
    "        return_attention_mask=True,\n",
    "        return_tensors=\"pt\"\n",
    "    )\n",
    "    test_input_ids.append(encoded_text['input_ids'])\n",
    "    test_attention_masks.append(encoded_text['attention_mask'])\n",
    "\n",
    "test_input_ids = torch.cat(test_input_ids, dim=0)\n",
    "test_attention_masks = torch.cat(test_attention_masks, dim=0)\n",
    "true_labels = torch.tensor(true_labels)\n",
    "\n",
    "with torch.no_grad():\n",
    "    logits = model(test_input_ids, attention_mask=test_attention_masks).logits\n",
    "\n",
    "predicted_labels = np.argmax(logits, axis=1)\n",
    "print(\"Predicted Labels:\", predicted_labels)\n",
    "print(\"True Labels:\", true_labels.numpy())\n",
    "\n",
    "# Classification report and accuracy\n",
    "classification_rep = classification_report(true_labels.numpy(), predicted_labels)\n",
    "accuracy = accuracy_score(true_labels.numpy(), predicted_labels)\n",
    "print(\"Classification Report:\\n\", classification_rep)\n",
    "print(\"Accuracy:\", accuracy)\n",
    "\n",
    "# Visualization\n",
    "fig, ax = plt.subplots(figsize=(6, 4))\n",
    "labels = ['Negative', 'Positive']\n",
    "y_pos = np.arange(len(labels))\n",
    "scores = [logits[0][0].item(), logits[1][1].item()]\n",
    "ax.bar(y_pos, scores, align='center', alpha=0.5)\n",
    "ax.set_ylabel('Scores')\n",
    "ax.set_xticks(y_pos)\n",
    "ax.set_xticklabels(labels)\n",
    "ax.set_title('BERT Sentiment Classification')\n",
    "plt.show()"
   ]
  },
  {
   "cell_type": "code",
   "execution_count": 8,
   "metadata": {},
   "outputs": [
    {
     "name": "stderr",
     "output_type": "stream",
     "text": [
      "Downloading (…)lve/main/config.json: 100%|██████████| 656/656 [00:00<00:00, 2.62MB/s]\n",
      "Downloading model.safetensors: 100%|██████████| 479M/479M [01:00<00:00, 7.97MB/s] \n",
      "Downloading (…)neration_config.json: 100%|██████████| 74.0/74.0 [00:00<00:00, 291kB/s]\n",
      "Downloading (…)olve/main/vocab.json: 100%|██████████| 816k/816k [00:00<00:00, 15.5MB/s]\n",
      "Downloading (…)olve/main/merges.txt: 100%|██████████| 458k/458k [00:00<00:00, 11.5MB/s]\n",
      "Downloading (…)/main/tokenizer.json: 100%|██████████| 1.27M/1.27M [00:00<00:00, 23.5MB/s]\n"
     ]
    },
    {
     "data": {
      "text/plain": [
       "[{'generated_text': 'Hello! I am a neural network, and I want to say that it is a pleasure to meet you. we have heard a wonderful thing about our friend\\'s work. i am so delighted to hear it, but our understanding is that the neural network was created in the time of the last great depression : there was a new generation of neural networks, and the neural network was created. \" \\n \" what you speak is,\\'i think we can make it.\\'but it means,\\'how'},\n",
       " {'generated_text': 'Hello! I am a neural network, and I want to say that you look beautiful. you are a great person. do you see anything you \\'d like to do today? \" \\n she looked down, and she tried to smile. \\n \" yes, i can see how this makes you feel, but it just seems so wrong, the way you are sitting there. you are like a sculpture that has come up and is in a state of disrepair, and if you could please just take off your'},\n",
       " {'generated_text': 'Hello! I am a neural network, and I want to say that they are just a shell, like a human. the computer, the computer! \" \" \\n \" why don\\'t you try us, \" asked one of the alien warriors. \" we\\'re going to help you, \" the other replied, \" if you wish to join us. \" \\n \" what do you mean? \" asked disappointedly. \" we are no more like animals than we were before! and besides, all'},\n",
       " {'generated_text': 'Hello! I am a neural network, and I want to say that we\\'re sorry for the intrusion, it\\'s not our intention to harm you. please, follow these three down. we believe that a direct order from the president here won\\'t be tolerated. please have a seat. \" \\n at first, all they saw was the head of their security, a man with a face resembling an anteater\\'s. then it became clear, however, that he was a high - pitched, reedy voice'},\n",
       " {'generated_text': 'Hello! I am a neural network, and I want to say that i never understood much about you guys, but all that happens is i\\'ve been a hacker for as long as i can remember. but i need to tell you a few things first. as a matter of fact, i may have a few things to share with you about people. so, let\\'s move on to the meeting... \" \\n chapter twenty seven \\n we all sit around the table, discussing our new roles in the project'}]"
      ]
     },
     "execution_count": 8,
     "metadata": {},
     "output_type": "execute_result"
    }
   ],
   "source": [
    "from transformers import pipeline\n",
    "\n",
    "model_name = 'openai-gpt' \n",
    "\n",
    "generator = pipeline('text-generation', model=model_name)\n",
    "\n",
    "generator(\"Hello! I am a neural network, and I want to say that\", max_length=100, num_return_sequences=5)\n"
   ]
  },
  {
   "cell_type": "code",
   "execution_count": 9,
   "metadata": {},
   "outputs": [
    {
     "data": {
      "text/plain": [
       "[{'generated_text': 'Synonyms of a word cat: \" no. \" i wondered what other words were going through'},\n",
       " {'generated_text': \"Synonyms of a word cat: which was what the cat's name was, but that was\"},\n",
       " {'generated_text': 'Synonyms of a word cat: \" human, cat and more... how do you say it'},\n",
       " {'generated_text': \"Synonyms of a word cat: the dog which had been the dog of the previous night's\"},\n",
       " {'generated_text': 'Synonyms of a word cat: to get rid of this damned cat. \\n the smell of'}]"
      ]
     },
     "execution_count": 9,
     "metadata": {},
     "output_type": "execute_result"
    }
   ],
   "source": [
    "generator(\"Synonyms of a word cat:\", max_length=20, num_return_sequences=5)"
   ]
  },
  {
   "cell_type": "code",
   "execution_count": 10,
   "metadata": {},
   "outputs": [
    {
     "data": {
      "text/plain": [
       "[{'generated_text': 'I love when you say this -> Positive\\nI have myself -> Negative\\nThis is awful for you to say this -> negative this happens to be the world of you - > positive the next day'},\n",
       " {'generated_text': 'I love when you say this -> Positive\\nI have myself -> Negative\\nThis is awful for you to say this -> negative i can not even - > negative is my most favorite - > positive'},\n",
       " {'generated_text': 'I love when you say this -> Positive\\nI have myself -> Negative\\nThis is awful for you to say this -> positive i have the opposite negative, positive i have a very positive reaction to'},\n",
       " {'generated_text': \"I love when you say this -> Positive\\nI have myself -> Negative\\nThis is awful for you to say this -> positive this is a - and - so you can't think? \\n and\"},\n",
       " {'generated_text': 'I love when you say this -> Positive\\nI have myself -> Negative\\nThis is awful for you to say this -> negative this is a bad thing for you to say - > positive \\n the'}]"
      ]
     },
     "execution_count": 10,
     "metadata": {},
     "output_type": "execute_result"
    }
   ],
   "source": [
    "generator(\"I love when you say this -> Positive\\nI have myself -> Negative\\nThis is awful for you to say this ->\", max_length=40, num_return_sequences=5)"
   ]
  },
  {
   "cell_type": "code",
   "execution_count": 11,
   "metadata": {},
   "outputs": [
    {
     "data": {
      "text/plain": [
       "[{'generated_text': 'Translate English to French: cat => chat, dog => chien, student =>  game between the french and americans : chess, games,'},\n",
       " {'generated_text': 'Translate English to French: cat => chat, dog => chien, student =>  cat = > cat = > feline, teacher = >'},\n",
       " {'generated_text': \"Translate English to French: cat => chat, dog => chien, student =>  friend, \\n '... and in writing this, as\"}]"
      ]
     },
     "execution_count": 11,
     "metadata": {},
     "output_type": "execute_result"
    }
   ],
   "source": [
    "generator(\"Translate English to French: cat => chat, dog => chien, student => \", top_k=50, max_length=30, num_return_sequences=3)"
   ]
  },
  {
   "cell_type": "code",
   "execution_count": 12,
   "metadata": {},
   "outputs": [
    {
     "data": {
      "text/plain": [
       "[{'generated_text': 'People who liked the movie The Matrix also liked  the princess bride. which was why the story was just starting to come together. \\n \" you\\'re right, \" i said. \" we are the most'},\n",
       " {'generated_text': \"People who liked the movie The Matrix also liked  the old movies. \\n in spite of those issues, both girls were interested in the sci - fi movies. that's what the new book was for.\"},\n",
       " {'generated_text': \"People who liked the movie The Matrix also liked  a lot more than the movies the guy in line - that meant that even if someone started going to movies without it - he wouldn't understand the story or\"},\n",
       " {'generated_text': 'People who liked the movie The Matrix also liked  it the movie of the new york yankees. they even took on more personality - wise than my friends. \\n i was having a major meltdown over this one'},\n",
       " {'generated_text': 'People who liked the movie The Matrix also liked  her movies. she had been too busy running around and writing her novel to spend time with these characters. they were the ones who had done the mystery movie'}]"
      ]
     },
     "execution_count": 12,
     "metadata": {},
     "output_type": "execute_result"
    }
   ],
   "source": [
    "generator(\"People who liked the movie The Matrix also liked \", max_length=40, num_return_sequences=5)"
   ]
  },
  {
   "cell_type": "markdown",
   "metadata": {},
   "source": [
    "## Text Sampling Strategies\n",
    "\n",
    "So far we have been using simple **greedy** sampling strategy, when we selected next word based on the highest probability. Here is how it works:"
   ]
  },
  {
   "cell_type": "code",
   "execution_count": 13,
   "metadata": {},
   "outputs": [
    {
     "data": {
      "text/plain": [
       "[{'generated_text': 'It was early evening when I can back from work. I usually work late, but this time it was an exception. When I entered a room, I saw i had a large bouquet of roses on the table beside me. i picked up the flowers, took a long look over them and immediately dropped them. \\n \" what\\'s wrong, sweetheart? \" luke asked as he walked over and knelt down in front of me. \\n \" nothing. i was just so shocked. \" \\n \" you\\'re'},\n",
       " {'generated_text': 'It was early evening when I can back from work. I usually work late, but this time it was an exception. When I entered a room, I saw the most beautiful woman i had ever seen. the one person i truly thought i loved. she was sitting on a large black leather couch of what appeared to be leather seats. she had the sexiest face i have ever seen in my life and she had a red satin bow on her head, just like the dress. she was so lovely.'},\n",
       " {'generated_text': \"It was early evening when I can back from work. I usually work late, but this time it was an exception. When I entered a room, I saw that someone had just entered. there was a bed and a table by the window. a large man wearing a black, leather hood was walking towards the window. the window was full of pictures in black frames. the one who left was the man who 'd left me the house yesterday. i have a feeling that there's been a change,\"},\n",
       " {'generated_text': 'It was early evening when I can back from work. I usually work late, but this time it was an exception. When I entered a room, I saw i was the only waiter with a name tag identified as bob. i had just stepped into the office of michael eddy who was sitting at the desk when i heard him announce, \" hey, bob, what\\'s this? \" \\n \" good evening, michael. my name is bob bob. \" \\n \" hi, i\\'m eddy. \"'},\n",
       " {'generated_text': \"It was early evening when I can back from work. I usually work late, but this time it was an exception. When I entered a room, I saw a young woman - it was a young woman - the same type that i saw the other days of my day. \\n i moved out of the way, though. there's a young woman in here, i would guess about your age - a cute brunette, but a little too pretty to be my type. i walked over to her.\"}]"
      ]
     },
     "execution_count": 13,
     "metadata": {},
     "output_type": "execute_result"
    }
   ],
   "source": [
    "prompt = \"It was early evening when I can back from work. I usually work late, but this time it was an exception. When I entered a room, I saw\"\n",
    "generator(prompt,max_length=100,num_return_sequences=5)"
   ]
  },
  {
   "cell_type": "markdown",
   "metadata": {},
   "source": [
    "**Beam Search** allows the generator to explore several directions (*beams*) of text generation, and select the ones with highers overall score. You can do beam search by providing `num_beams` parameter. You can also specify `no_repeat_ngram_size` to penalize the model for repeating n-grams of a given size: "
   ]
  },
  {
   "cell_type": "code",
   "execution_count": 14,
   "metadata": {},
   "outputs": [
    {
     "data": {
      "text/plain": [
       "[{'generated_text': 'It was early evening when I can back from work. I usually work late, but this time it was an exception. When I entered a room, I saw a woman sitting at a desk. she looked up at me, smiled, and said, \" good evening. \" \\n i sat down in the chair across from her. \\n \" what can i do for you? \" she asked in a soft voice, as she leaned back in her chair and put her feet up on the desk in front'},\n",
       " {'generated_text': 'It was early evening when I can back from work. I usually work late, but this time it was an exception. When I entered a room, I saw a woman sitting at a desk. she looked up at me, smiled, and said, \" good evening. \" \\n i sat down in the chair across from her. \\n \" what can i do for you? \" she asked in a soft voice, as she leaned back in her chair and put her feet up on the desk, crossing'},\n",
       " {'generated_text': 'It was early evening when I can back from work. I usually work late, but this time it was an exception. When I entered a room, I saw a woman sitting at a desk. she looked up at me, smiled, and said, \" good evening. \" \\n i sat down in the chair across from her. \\n \" what can i do for you? \" she asked in a soft voice, as she leaned back in her chair and crossed one leg over the other. her hair'},\n",
       " {'generated_text': 'It was early evening when I can back from work. I usually work late, but this time it was an exception. When I entered a room, I saw a woman sitting at a desk. she looked up at me, smiled, and said, \" good evening. \" \\n i sat down in the chair across from her. \\n \" what can i do for you? \" she asked in a soft voice, as she leaned back in her chair and crossed one leg over the other. her long'},\n",
       " {'generated_text': 'It was early evening when I can back from work. I usually work late, but this time it was an exception. When I entered a room, I saw a woman sitting at a desk. she looked up at me, smiled, and said, \" good evening. \" \\n i sat down in the chair across from her. \\n \" what can i do for you? \" she asked in a soft voice, as she leaned back in her chair and crossed her arms over her chest. her eyes'}]"
      ]
     },
     "execution_count": 14,
     "metadata": {},
     "output_type": "execute_result"
    }
   ],
   "source": [
    "prompt = \"It was early evening when I can back from work. I usually work late, but this time it was an exception. When I entered a room, I saw\"\n",
    "generator(prompt,max_length=100,num_return_sequences=5,num_beams=10,no_repeat_ngram_size=2)"
   ]
  },
  {
   "cell_type": "markdown",
   "metadata": {},
   "source": [
    "**Sampling** selects the next word non-deterministically, using the probability distribution returned by the model. You turn on sampling using `do_sample=True` parameter. You can also specify `temperature`, to make the model more or less deterministic."
   ]
  },
  {
   "cell_type": "code",
   "execution_count": null,
   "metadata": {},
   "outputs": [
    {
     "data": {
      "text/plain": [
       "[{'generated_text': 'It was early evening when I can back from work. I usually work late, but this time it was an exception. When I entered a room, I saw her. she was on the bed, but she looked very different. \\n \" honey, what\\'s the matter? \" i asked. \\n she sat up. \" i can\\'t believe it\\'s real. i\\'ve been dreaming about you for the last two days. \" \\n \" i can\\'t believe it either. i guess that\\'s how'}]"
      ]
     },
     "metadata": {},
     "output_type": "display_data"
    }
   ],
   "source": [
    "prompt = \"It was early evening when I can back from work. I usually work late, but this time it was an exception. When I entered a room, I saw\"\n",
    "generator(prompt,max_length=100,do_sample=True,temperature=0.8)"
   ]
  },
  {
   "cell_type": "markdown",
   "metadata": {},
   "source": [
    "We can also provide to additional parameters to sampling:\n",
    "* `top_k` specifies the number of word options to consider when using sampling. This minimizes the chance of getting weird (low-probability) words in our text.\n",
    "* `top_p` is similar, but we chose the smallest subset of most probable words, whose total probability is larger than p.\n",
    "\n",
    "Feel free to experiment with adding those parameters in."
   ]
  }
 ],
 "metadata": {
  "kernelspec": {
   "display_name": "Python 3",
   "language": "python",
   "name": "python3"
  },
  "language_info": {
   "codemirror_mode": {
    "name": "ipython",
    "version": 3
   },
   "file_extension": ".py",
   "mimetype": "text/x-python",
   "name": "python",
   "nbconvert_exporter": "python",
   "pygments_lexer": "ipython3",
   "version": "3.10.12"
  },
  "orig_nbformat": 4
 },
 "nbformat": 4,
 "nbformat_minor": 2
}
