{
 "cells": [
  {
   "cell_type": "markdown",
   "metadata": {},
   "source": [
    "## **Outline**\n",
    "\n",
    "- Introduction to GANs \n",
    "  - Recap of Generative Adversarial Networks (GANs)\n",
    "- Understanding GAN Architecture: Generator and Discriminator\n",
    "- Implementing a Basic GAN for Generating Images\n",
    "- Training and Evaluating the GAN\n"
   ]
  },
  {
   "cell_type": "markdown",
   "metadata": {},
   "source": [
    "<img src=\"./images/border.jpg\" height=\"10\" width=\"1500\" align=\"center\"/>"
   ]
  },
  {
   "cell_type": "markdown",
   "metadata": {},
   "source": [
    "## Generative Adversarial Networks\n",
    "\n",
    "- **Image classification**: Assigning a label to an image based on its content.\n",
    "- Convolutional Neural Networks (CNNs) have brought groundbreaking changes in this field.\n",
    "- CNNs are specialized neural networks for processing grid-like data (e.g., images).\n",
    "\n",
    "- Extending CNNs to Generate Images\n",
    "  - A fascinating feature of CNNs: \n",
    "    - Their adaptability\n",
    "  - While they excel in classification, they can also be repurposed to generate images\n",
    "  - Think of it as \"reverse engineering\" \n",
    "    - Given the learned features, how might an image look?\n"
   ]
  },
  {
   "cell_type": "markdown",
   "metadata": {},
   "source": [
    "<img src=\"./images/border.jpg\" height=\"10\" width=\"1500\" align=\"center\"/>"
   ]
  },
  {
   "cell_type": "markdown",
   "metadata": {},
   "source": [
    "## **GANs**\n",
    "\n",
    "- GANs: The New Era of Image Generation\n",
    "  - A novel architecture involving two networks: A generator and a discriminator.\n",
    "  - These networks train together, continuously improving each other.\n",
    "  - The goal? \n",
    "    - Have the generator create images so good that the discriminator can't tell them apart from real ones.\n",
    "\n",
    "- GANs in Action: A Real-world Analogy\n",
    "  - Picture a bank (the discriminator) trying to spot fake money from a counterfeiter (the generator).\n",
    "  - Initially, the counterfeiter's fakes are obvious. \n",
    "    - But let the money forger have a spy in the bank that reports back how the bank is telling fakes apart from real money.\n",
    "  - A continuous cycle of adaptation and counter-adaptation ensues.\n"
   ]
  },
  {
   "cell_type": "markdown",
   "metadata": {},
   "source": [
    "<img src=\"./images/border.jpg\" height=\"10\" width=\"1500\" align=\"center\"/>"
   ]
  },
  {
   "cell_type": "markdown",
   "metadata": {},
   "source": [
    "## **GANs Components**\n",
    "\n",
    "- The Discriminator and Generator in Detail\n",
    "  - **Discriminator**: A CNN trained to assign a probability that an image is real.\n",
    "  - **Generator**: A specialized CNN using transpose convolutions (or deconvolutions). It starts with random noise (around 100 parameters) and crafts an image from it.\n",
    "\n",
    "\n",
    "<img src=\"./images/GAN6.png\" width=\"500\" align=\"center\"/>\n"
   ]
  },
  {
   "cell_type": "markdown",
   "metadata": {},
   "source": [
    "- How Does the Discriminator \"Guide\" the Generator?\n",
    "  - The *discriminator*, being a convolutional neural network, is differentiable\n",
    "  - By backpropagating, we can identify the gradients of the input image\n",
    "  - These gradients inform the *generator* which parts of the image to tweak\n",
    "\n",
    "- Utilizing the Feedback\n",
    "  - With the gradient information, we can adjust the weights of the generative network.\n",
    "  - This ensures that subsequent images produced by the generator are more \"authentic\" in appearance.\n",
    "\n",
    "- A Continuous Tug-of-War\n",
    "  - The discriminator seeks disparities between fake and real images.\n",
    "  - The generator aims to blur these lines of differentiation.\n",
    "  - Over time, this competition refines the generator to a point where its output becomes indistinguishable from real images.\n",
    "\n",
    "- Real-world Implementation\n",
    "  - Implementing GANs requires a deep learning framework, e.g., PyTorch.\n",
    "  - The true test: Training the network on diverse image datasets like CIFAR-10 or 64x64 Imagenet samples.\n",
    "  "
   ]
  },
  {
   "cell_type": "markdown",
   "metadata": {},
   "source": [
    "<img src=\"./images/border.jpg\" height=\"10\" width=\"1500\" align=\"center\"/>"
   ]
  },
  {
   "cell_type": "markdown",
   "metadata": {},
   "source": [
    "## **CIFAR Dataset Overview**\n",
    "\n",
    "- **Description**: A collection of small images in 10 distinct classes.\n",
    "- **Image Size**: 32x32 pixels (color images).\n",
    "- **Number of Images**: 60,000\n",
    "    - 50,000 training images\n",
    "    - 10,000 testing images\n",
    "- **Classes**: Airplane, Automobile, Bird, Cat, Deer, Dog, Frog, Horse, Ship, Truck."
   ]
  },
  {
   "cell_type": "markdown",
   "metadata": {},
   "source": [
    "<img src=\"./images/border.jpg\" height=\"10\" width=\"1500\" align=\"center\"/>"
   ]
  },
  {
   "cell_type": "markdown",
   "metadata": {},
   "source": [
    "\n",
    "Generated CIFAR images on iteration 300, 900, and 5700.\n",
    "\n",
    "<img src=\"./images/GAN2.png\" align=\"center\"/>"
   ]
  },
  {
   "cell_type": "markdown",
   "metadata": {},
   "source": [
    "<img src=\"./images/border.jpg\" height=\"10\" width=\"1500\" align=\"center\"/>"
   ]
  },
  {
   "cell_type": "markdown",
   "metadata": {},
   "source": [
    "Real images on the left, generated at iteration 182,000 on the right\n",
    "\n",
    "<img src=\"./images/GAN3.png\" align=\"center\"/>"
   ]
  },
  {
   "cell_type": "markdown",
   "metadata": {},
   "source": [
    "<img src=\"./images/border.jpg\" height=\"10\" width=\"1500\" align=\"center\"/>"
   ]
  },
  {
   "cell_type": "markdown",
   "metadata": {},
   "source": [
    "What happens if we scale it up? \n",
    "- CIFAR is only 32x32, so let's try Imagenet.\n",
    "- I downloaded a 150,000 image set from the Imagenet 2012 Challenge, and rescaled them all to 64x64.\n",
    "\n",
    "- Generated Imagenet images on iteration 300, 800, and 5800.\n",
    "\n",
    "<img src=\"./images/GAN4.jpeg\" width=\"500\" align=\"center\"/>\n",
    "\n",
    "\n",
    "- Real images on the left, generated at iteration 17,800 on the right\n",
    "\n",
    "<img src=\"./images/GAN5.jpeg\" width=\"500\" align=\"center\"/>\n"
   ]
  },
  {
   "cell_type": "markdown",
   "metadata": {},
   "source": [
    "<img src=\"./images/border.jpg\" height=\"10\" width=\"1500\" align=\"center\"/>"
   ]
  },
  {
   "cell_type": "markdown",
   "metadata": {},
   "source": [
    "## **Genereative Adversarial Networks**\n",
    "\n",
    "\n",
    "<img src=\"./images/gan_architecture.png\" width=\"70%\"/>"
   ]
  },
  {
   "cell_type": "markdown",
   "metadata": {},
   "source": [
    "<img src=\"./images/border.jpg\" height=\"10\" width=\"1500\" align=\"center\"/>"
   ]
  },
  {
   "cell_type": "code",
   "execution_count": 2,
   "metadata": {},
   "outputs": [],
   "source": [
    "import torch\n",
    "import torchvision\n",
    "import matplotlib.pyplot as plt\n",
    "from torchvision import transforms\n",
    "from torch import nn\n",
    "from torch import optim\n",
    "from tqdm import tqdm\n",
    "import numpy as np\n",
    "import torch.nn.functional as F\n",
    "torch.manual_seed(42)\n",
    "np.random.seed(42)"
   ]
  },
  {
   "cell_type": "code",
   "execution_count": 11,
   "metadata": {},
   "outputs": [],
   "source": [
    "device = 'cuda:0' if torch.cuda.is_available() else 'cpu'\n",
    "train_size = 0.8\n",
    "\n",
    "# Learning rate for the optimizer (affects how fast the model learns)\n",
    "lr = 2e-4\n",
    "\n",
    "# Weight decay for regularization in the optimizer (prevents overfitting by penalizing large weights)\n",
    "weight_decay = 8e-9\n",
    "\n",
    "# Beta1 parameter for the Adam optimizer (momentum term for the moving average of the gradient)\n",
    "beta1 = 0.5\n",
    "\n",
    "# Beta2 parameter for the Adam optimizer (momentum term for the moving average of the squared gradient)\n",
    "beta2 = 0.999\n",
    "\n",
    "batch_size = 256\n",
    "\n",
    "epochs = 10\n",
    "\n",
    "# Specifies how frequently to plot or visualize metrics/results (e.g., after every 10 training steps)\n",
    "plot_every = 10\n"
   ]
  },
  {
   "cell_type": "markdown",
   "metadata": {},
   "source": [
    "<img src=\"./images/border.jpg\" height=\"10\" width=\"1500\" align=\"center\"/>"
   ]
  },
  {
   "cell_type": "markdown",
   "metadata": {},
   "source": [
    "## **Generator**\n",
    "\n",
    "- Its primary role is to produce or *\"generate\"* data.\n",
    "\n",
    "- **Latent Vector:** The Starting Point\n",
    "  - Generators begin with a random vector.\n",
    "  - This is similar to the latent vector used in autoencoders\n",
    "  - Acts as the seed or source from which data will be generated.\n",
    "\n",
    "- **How Does the Generator Produce Images?**\n",
    "  - Transforms the initial random vector.\n",
    "  - Uses a series of neural network layers to shape and refine this vector.\n",
    "  - The output is our target image.\n",
    "\n",
    "- **Parallels with Autoencoders**\n",
    "  - The generator's process mirrors the generative side of an autoencoder.\n",
    "  - Both start with a compressed representation (latent vector) and expand it.\n",
    "  - However, while autoencoders reconstruct from known data, generators create new data.\n",
    "\n",
    "- **Building a Generator**\n",
    "  - Many architectures can be employed. \n",
    "    - Linear neural networks are one such choice.\n",
    "  - The choice of architecture can be influenced by the dataset in use.\n",
    "\n",
    "\n",
    "In our example, we will use linear neural networks and MNIST dataset.\n"
   ]
  },
  {
   "cell_type": "markdown",
   "metadata": {},
   "source": [
    "<img src=\"./images/border.jpg\" height=\"10\" width=\"1500\" align=\"center\"/>"
   ]
  },
  {
   "cell_type": "code",
   "execution_count": 3,
   "metadata": {},
   "outputs": [],
   "source": [
    "import torch.nn as nn\n",
    "\n",
    "class Generator(nn.Module):\n",
    "    def __init__(self):\n",
    "        super().__init__()\n",
    "        \n",
    "        # Linear layer mapping from a 100-dimensional latent space to 256 dimensions.\n",
    "        # This will learn the first hidden layer of the generator.\n",
    "        self.linear1 = nn.Linear(100, 256)\n",
    "\n",
    "        # Batch normalization layer to stabilize and speed up training.\n",
    "        # It is applied to the 256-dimensional output from the previous layer.\n",
    "        # \"momentum\" parameter is typically set between 0.1 and 0.3 to control\n",
    "        # the amount of exponential decay applied to the running mean and variance.\n",
    "        self.bn1 = nn.BatchNorm1d(256, momentum=0.2)\n",
    "        \n",
    "        # Another linear layer that upscales the feature to 512 dimensions.\n",
    "        self.linear2 = nn.Linear(256, 512)\n",
    "        # Batch normalization for the 512-dimensional vector.\n",
    "        self.bn2 = nn.BatchNorm1d(512, momentum=0.2)\n",
    "        \n",
    "        # Linear layer which transforms 512 features to 1024 features.\n",
    "        self.linear3 = nn.Linear(512, 1024)\n",
    "        # Batch normalization for the 1024-dimensional vector.\n",
    "        self.bn3 = nn.BatchNorm1d(1024, momentum=0.2)\n",
    "        \n",
    "        # Final linear layer which maps 1024 features to 784.\n",
    "        # Considering we are possibly dealing with 28x28 images (as 28x28 == 784),\n",
    "        # this layer will output something that can be reshaped into a 28x28 image.\n",
    "        self.linear4 = nn.Linear(1024, 784)\n",
    "        \n",
    "        # Tanh activation function for the output layer.\n",
    "        # Tanh is commonly used in the output layer of a GAN generator \n",
    "        # as it maps outputs to be within the range [-1, 1].\n",
    "        self.tanh = nn.Tanh()\n",
    "        \n",
    "        # LeakyReLU activation function for hidden layers with a small negative slope of 0.2.\n",
    "        # This slight negative slope allows gradients to flow even when the unit is not active,\n",
    "        # avoiding dead neurons and aiding the training process.\n",
    "        self.leaky_relu = nn.LeakyReLU(0.2)\n",
    "\n",
    "    def forward(self, input):\n",
    "        # Forward pass through the first linear layer, followed by batch normalization,\n",
    "        # and then through the LeakyReLU activation function.\n",
    "        hidden1 = self.leaky_relu(self.bn1(self.linear1(input)))\n",
    "        \n",
    "        # Similarly for the second layer, the input (hidden1) passes through \n",
    "        # a linear layer, batch normalization, and LeakyReLU.\n",
    "        hidden2 = self.leaky_relu(self.bn2(self.linear2(hidden1)))\n",
    "        \n",
    "        # And the third hidden layer follows the same pattern.\n",
    "        hidden3 = self.leaky_relu(self.bn3(self.linear3(hidden2)))\n",
    "        \n",
    "        # The output layer maps the activations via a linear transformation,\n",
    "        # followed by a tanh activation function to squash values between -1 and 1.\n",
    "        # After that, the output is reshaped (view()) to form a batch of images.\n",
    "        # Here, [input.shape[0], 1, 28, 28] indicates [batch_size, channels, height, width].\n",
    "        generated = self.tanh(self.linear4(hidden3)).view(input.shape[0], 1, 28, 28)\n",
    "        \n",
    "        # The reshaped tensor, which should now resemble images, is returned.\n",
    "        return generated\n"
   ]
  },
  {
   "cell_type": "markdown",
   "metadata": {},
   "source": [
    "<img src=\"./images/border.jpg\" height=\"10\" width=\"1500\" align=\"center\"/>"
   ]
  },
  {
   "cell_type": "markdown",
   "metadata": {},
   "source": [
    "## **Enhancing Generators: A Few Tricks**\n",
    "\n",
    "Generative models often require a few tricks up their sleeves to improve stability and performance. \n",
    "\n",
    "#### 1. LeakyReLU Activation\n",
    "\n",
    "- Traditional ReLU: `f(x) = max(0, x)`\n",
    "- **LeakyReLU**: A twist on the traditional ReLU.\n",
    "  - Not strictly 0 for negative `x`.\n",
    "  - Instead, it has a small positive gradient/slope.\n",
    "  - Helps the network learn even for negative values of `x`.\n",
    "\n",
    "#### 2. BatchNorm1D\n",
    "\n",
    "- **BatchNorm1D**: A form of normalization applied to 1D inputs.\n",
    "  - Helps in stabilizing training.\n",
    "  - Can accelerate convergence.\n",
    "  - Reduces the sensitivity to initialization.\n",
    "\n",
    "#### 3. Tanh Activation for the Final Layer\n",
    "\n",
    "- The **Tanh** activation function outputs values between [-1,1].\n",
    "- Preferred for certain types of generative tasks.\n",
    "- Ensures the generated data remains within a specific range."
   ]
  },
  {
   "cell_type": "markdown",
   "metadata": {},
   "source": [
    "<img src=\"./images/border.jpg\" height=\"10\" width=\"1500\" align=\"center\"/>"
   ]
  },
  {
   "cell_type": "markdown",
   "metadata": {},
   "source": [
    "## **Discriminator**\n",
    "\n",
    "Discriminator is a classical image classification network. In our first example, we will also use linear classifier."
   ]
  },
  {
   "cell_type": "code",
   "execution_count": 4,
   "metadata": {},
   "outputs": [],
   "source": [
    "import torch.nn as nn\n",
    "\n",
    "class Discriminator(nn.Module):\n",
    "    def __init__(self):\n",
    "        super().__init__()\n",
    "        \n",
    "        # Define the first linear layer with 784 input nodes (for a flattened 28x28 image)\n",
    "        # and 512 output nodes. \n",
    "        self.linear1 = nn.Linear(784, 512)\n",
    "        \n",
    "        # Define the second linear layer that takes the 512 inputs from the previous layer \n",
    "        # and reduces the dimension to 256.\n",
    "        self.linear2 = nn.Linear(512, 256)\n",
    "        \n",
    "        # The final linear layer reduces the dimensions from 256 to a single node.\n",
    "        # This single output node will output the probability of the input being real.\n",
    "        self.linear3 = nn.Linear(256, 1)\n",
    "        \n",
    "        # LeakyReLU activation function with a negative slope of 0.2.\n",
    "        # This will allow for a small, non-zero output for negative input values\n",
    "        # and help to avoid dead neurons during training.\n",
    "        self.leaky_relu = nn.LeakyReLU(0.2)\n",
    "        \n",
    "        # Sigmoid activation function to squash the final output between 0 and 1,\n",
    "        # allowing for binary classification (real vs. generated).\n",
    "        self.sigmoid = nn.Sigmoid()\n",
    "\n",
    "    def forward(self, input):\n",
    "        # Reshape the input image tensor into a flat tensor.\n",
    "        # input.shape[0] likely refers to batch size, and -1 allows the function to \n",
    "        # automatically calculate the size of the second dimension, ensuring the number\n",
    "        # of elements in the tensor remains constant.\n",
    "        input = input.view(input.shape[0], -1)\n",
    "        \n",
    "        # Forward pass through the first linear layer and then through the LeakyReLU.\n",
    "        hidden1 = self.leaky_relu(self.linear1(input))\n",
    "        \n",
    "        # The output from the first layer (hidden1) goes through the second linear layer \n",
    "        # and then through the LeakyReLU activation function.\n",
    "        hidden2 = self.leaky_relu(self.linear2(hidden1))\n",
    "        \n",
    "        # The output (hidden2) goes through the final linear layer and then\n",
    "        # the sigmoid activation function, providing a probability of the input being\n",
    "        # a real image.\n",
    "        classified = self.sigmoid(self.linear3(hidden2))\n",
    "        \n",
    "        # Return the final classification (probability of the input being real).\n",
    "        return classified\n"
   ]
  },
  {
   "cell_type": "markdown",
   "metadata": {},
   "source": [
    "<img src=\"./images/border.jpg\" height=\"10\" width=\"1500\" align=\"center\"/>"
   ]
  },
  {
   "cell_type": "markdown",
   "metadata": {},
   "source": [
    "## **Loading dataset**\n",
    "\n",
    "We will use MNIST dataset."
   ]
  },
  {
   "cell_type": "code",
   "execution_count": 5,
   "metadata": {},
   "outputs": [],
   "source": [
    "def mnist(train_part, transform=None):\n",
    "    # Download the MNIST dataset and apply the specified transformation (if any).\n",
    "    dataset = torchvision.datasets.MNIST('.', download=True, transform=transform)\n",
    "    \n",
    "    # Calculate the number of samples to use for training based on the specified train_part.\n",
    "    train_part = int(train_part * len(dataset))\n",
    "    \n",
    "    # Randomly split the dataset into a training dataset and a test dataset.\n",
    "    train_dataset, test_dataset = torch.utils.data.random_split(dataset, [train_part, len(dataset) - train_part])\n",
    "    \n",
    "    # Return the training and test datasets.\n",
    "    return train_dataset, test_dataset"
   ]
  },
  {
   "cell_type": "code",
   "execution_count": 6,
   "metadata": {},
   "outputs": [],
   "source": [
    "transform = transforms.Compose([\n",
    "                                transforms.ToTensor(),\n",
    "                                transforms.Normalize(mean=0.5, std=0.5)\n",
    "])"
   ]
  },
  {
   "cell_type": "code",
   "execution_count": 9,
   "metadata": {},
   "outputs": [],
   "source": [
    "train_dataset, test_dataset = mnist(train_size, transform)"
   ]
  },
  {
   "cell_type": "code",
   "execution_count": 10,
   "metadata": {},
   "outputs": [
    {
     "ename": "NameError",
     "evalue": "name 'batch_size' is not defined",
     "output_type": "error",
     "traceback": [
      "\u001b[0;31m---------------------------------------------------------------------------\u001b[0m",
      "\u001b[0;31mNameError\u001b[0m                                 Traceback (most recent call last)",
      "\u001b[1;32m/Users/mzihayat/VSC/Introduction-to-Generative-AI/Day-2/Part-2.ipynb Cell 36\u001b[0m line \u001b[0;36m1\n\u001b[0;32m----> <a href='vscode-notebook-cell:/Users/mzihayat/VSC/Introduction-to-Generative-AI/Day-2/Part-2.ipynb#X50sZmlsZQ%3D%3D?line=0'>1</a>\u001b[0m train_dataloader \u001b[39m=\u001b[39m torch\u001b[39m.\u001b[39mutils\u001b[39m.\u001b[39mdata\u001b[39m.\u001b[39mDataLoader(train_dataset, drop_last\u001b[39m=\u001b[39m\u001b[39mTrue\u001b[39;00m, batch_size\u001b[39m=\u001b[39mbatch_size, shuffle\u001b[39m=\u001b[39m\u001b[39mTrue\u001b[39;00m)\n\u001b[1;32m      <a href='vscode-notebook-cell:/Users/mzihayat/VSC/Introduction-to-Generative-AI/Day-2/Part-2.ipynb#X50sZmlsZQ%3D%3D?line=1'>2</a>\u001b[0m dataloaders \u001b[39m=\u001b[39m (train_dataloader, )\n\u001b[1;32m      <a href='vscode-notebook-cell:/Users/mzihayat/VSC/Introduction-to-Generative-AI/Day-2/Part-2.ipynb#X50sZmlsZQ%3D%3D?line=4'>5</a>\u001b[0m \u001b[39m# Create a DataLoader for the test dataset\u001b[39;00m\n",
      "\u001b[0;31mNameError\u001b[0m: name 'batch_size' is not defined"
     ]
    }
   ],
   "source": [
    "train_dataloader = torch.utils.data.DataLoader(train_dataset, drop_last=True, batch_size=batch_size, shuffle=True)\n",
    "dataloaders = (train_dataloader, )\n",
    "\n",
    "\n",
    "# Create a DataLoader for the test dataset\n",
    "test_loader = torch.utils.data.DataLoader(test_dataset, batch_size=batch_size, shuffle=False)\n"
   ]
  },
  {
   "cell_type": "markdown",
   "metadata": {},
   "source": [
    "<img src=\"./images/border.jpg\" height=\"10\" width=\"1500\" align=\"center\"/>"
   ]
  },
  {
   "cell_type": "markdown",
   "metadata": {},
   "source": [
    "## **Network training**\n",
    "\n",
    "On each step of the training, we have **two** phases:\n",
    "\n",
    "**Generator training** \n",
    "  - We generate some random vectors **noise** (training happens in minibatches, so we use 100 vectors at a time)\n",
    "  - Generate **true labels** (vector with shape (bs, 1) with 1.0 values)\n",
    "  - Calculate generator loss between output from **frozen** discriminator with noise as input and true labels.\n",
    "\n",
    "**Discriminator training**\n",
    "  - We calculate discriminator loss from **two** parts, \n",
    "    - **first** part is loss between output from discriminator with noise as input \n",
    "      - **fake labels** (vector with shape (bs, 1) with 0.0 values), \n",
    "    - **second** part is loss between output from discriminator with real images as input and true labels (vector with shape (bs, 1) with 1.0 values). \n",
    "    - **Result loss** is (first_part_loss + second_part_loss) / 2."
   ]
  },
  {
   "cell_type": "code",
   "execution_count": 42,
   "metadata": {},
   "outputs": [],
   "source": [
    "def plotn(n, generator, device):\n",
    "    generator.eval()\n",
    "    noise = torch.FloatTensor(np.random.normal(0, 1, (n, 100))).to(device)\n",
    "    imgs = generator(noise).detach().cpu()\n",
    "    fig, ax = plt.subplots(1, n)\n",
    "    for i, im in enumerate(imgs):\n",
    "        ax[i].imshow(im[0])\n",
    "    plt.show()"
   ]
  },
  {
   "cell_type": "code",
   "execution_count": 43,
   "metadata": {},
   "outputs": [],
   "source": [
    "def train_gan(dataloaders, models, optimizers, loss_fn, epochs, plot_every, device):\n",
    "    tqdm_iter = tqdm(range(epochs))\n",
    "    train_dataloader = dataloaders[0]\n",
    "    \n",
    "    gen, disc = models[0], models[1]\n",
    "    optim_gen, optim_disc = optimizers[0], optimizers[1]\n",
    "\n",
    "    for epoch in tqdm_iter:\n",
    "        gen.train()\n",
    "        disc.train()\n",
    "\n",
    "        train_gen_loss = 0.0\n",
    "        train_disc_loss = 0.0\n",
    "        \n",
    "        test_gen_loss = 0.0\n",
    "        test_disc_loss = 0.0\n",
    "\n",
    "        for batch in train_dataloader:\n",
    "            imgs, _ = batch\n",
    "            imgs = imgs.to(device)\n",
    "\n",
    "            disc.eval()\n",
    "            gen.zero_grad()\n",
    "\n",
    "            noise = torch.FloatTensor(np.random.normal(0.0, 1.0, (imgs.shape[0], 100))).to(device)\n",
    "            real_labels = torch.ones((imgs.shape[0], 1)).to(device)\n",
    "            fake_labels = torch.zeros((imgs.shape[0], 1)).to(device)\n",
    "            \n",
    "            generated = gen(noise)\n",
    "            disc_preds = disc(generated)\n",
    "\n",
    "            g_loss = loss_fn(disc_preds, real_labels)\n",
    "            g_loss.backward()\n",
    "            optim_gen.step()\n",
    "\n",
    "            disc.train()\n",
    "            disc.zero_grad()\n",
    "\n",
    "            disc_real = disc(imgs)\n",
    "            disc_real_loss = loss_fn(disc_real, real_labels)\n",
    "\n",
    "            disc_fake = disc(generated.detach())\n",
    "            disc_fake_loss = loss_fn(disc_fake, fake_labels)\n",
    "\n",
    "            d_loss = (disc_real_loss + disc_fake_loss) / 2.0\n",
    "            d_loss.backward()\n",
    "            optim_disc.step()\n",
    "\n",
    "            train_gen_loss += g_loss.item()\n",
    "            train_disc_loss += d_loss.item()\n",
    "\n",
    "        train_gen_loss /= len(train_dataloader)\n",
    "        train_disc_loss /= len(train_dataloader)\n",
    "\n",
    "        if epoch % plot_every == 0 or epoch == epochs - 1:\n",
    "            plotn(5, gen, device)\n",
    "\n",
    "        tqdm_dct = {'generator loss:': train_gen_loss, 'discriminator loss:': train_disc_loss}\n",
    "        tqdm_iter.set_postfix(tqdm_dct, refresh=True)\n",
    "        tqdm_iter.refresh()"
   ]
  },
  {
   "cell_type": "code",
   "execution_count": 44,
   "metadata": {},
   "outputs": [],
   "source": [
    "generator = Generator().to(device)\n",
    "discriminator = Discriminator().to(device)\n",
    "optimizer_generator = optim.Adam(generator.parameters(), lr=lr, weight_decay=weight_decay, betas=(beta1, beta2))\n",
    "optimizer_discriminator = optim.Adam(discriminator.parameters(), lr=lr, weight_decay=weight_decay, betas=(beta1, beta2))\n",
    "loss_fn = nn.BCELoss()\n",
    "\n",
    "models = (generator, discriminator)\n",
    "optimizers = (optimizer_generator, optimizer_discriminator)"
   ]
  },
  {
   "cell_type": "code",
   "execution_count": 45,
   "metadata": {},
   "outputs": [
    {
     "name": "stderr",
     "output_type": "stream",
     "text": [
      "  0%|          | 0/10 [00:00<?, ?it/s]"
     ]
    },
    {
     "data": {
      "image/png": "[encoded data removed]",
      "text/plain": [
       "<Figure size 640x480 with 5 Axes>"
      ]
     },
     "metadata": {},
     "output_type": "display_data"
    },
    {
     "name": "stderr",
     "output_type": "stream",
     "text": [
      " 90%|█████████ | 9/10 [01:45<00:11, 11.78s/it, generator loss:=0.964, discriminator loss:=0.565]"
     ]
    },
    {
     "data": {
      "image/png": "[encoded data removed]",
      "text/plain": [
       "<Figure size 640x480 with 5 Axes>"
      ]
     },
     "metadata": {},
     "output_type": "display_data"
    },
    {
     "name": "stderr",
     "output_type": "stream",
     "text": [
      "100%|██████████| 10/10 [01:57<00:00, 11.77s/it, generator loss:=0.969, discriminator loss:=0.576]\n"
     ]
    }
   ],
   "source": [
    "train_gan(dataloaders, models, optimizers, loss_fn, epochs, plot_every, device)"
   ]
  },
  {
   "cell_type": "code",
   "execution_count": 55,
   "metadata": {},
   "outputs": [
    {
     "name": "stdout",
     "output_type": "stream",
     "text": [
      "(Generator(\n",
      "  (linear1): Linear(in_features=100, out_features=256, bias=True)\n",
      "  (bn1): BatchNorm1d(256, eps=1e-05, momentum=0.2, affine=True, track_running_stats=True)\n",
      "  (linear2): Linear(in_features=256, out_features=512, bias=True)\n",
      "  (bn2): BatchNorm1d(512, eps=1e-05, momentum=0.2, affine=True, track_running_stats=True)\n",
      "  (linear3): Linear(in_features=512, out_features=1024, bias=True)\n",
      "  (bn3): BatchNorm1d(1024, eps=1e-05, momentum=0.2, affine=True, track_running_stats=True)\n",
      "  (linear4): Linear(in_features=1024, out_features=784, bias=True)\n",
      "  (tanh): Tanh()\n",
      "  (leaky_relu): LeakyReLU(negative_slope=0.2)\n",
      "), Discriminator(\n",
      "  (linear1): Linear(in_features=784, out_features=512, bias=True)\n",
      "  (linear2): Linear(in_features=512, out_features=256, bias=True)\n",
      "  (linear3): Linear(in_features=256, out_features=1, bias=True)\n",
      "  (leaky_relu): LeakyReLU(negative_slope=0.2)\n",
      "  (sigmoid): Sigmoid()\n",
      "))\n"
     ]
    }
   ],
   "source": [
    "print(models)\n"
   ]
  },
  {
   "cell_type": "markdown",
   "metadata": {},
   "source": [
    "<img src=\"./images/border.jpg\" height=\"10\" width=\"1500\" align=\"center\"/>"
   ]
  },
  {
   "cell_type": "markdown",
   "metadata": {},
   "source": [
    "## **Hands on: Parameter Tuning** \n",
    "\n",
    "- Experiment with different parameters including:\n",
    "  - Learning rates for the generator and discriminator.\n",
    "  - Different loss functions.\n",
    "  - Different optimizer (e.g., SGD, Adam)."
   ]
  },
  {
   "cell_type": "markdown",
   "metadata": {},
   "source": [
    "<img src=\"./images/border.jpg\" height=\"10\" width=\"1500\" align=\"center\"/>"
   ]
  },
  {
   "cell_type": "markdown",
   "metadata": {},
   "source": [
    "## DCGAN\n",
    "\n",
    "**Deep Convolutional GAN** is pretty obvious idea of using convolutional layers for generator and discriminator. The main difference here is using **Conv2DTranspose** layer in the generator.\n",
    "\n",
    "\n",
    "\n",
    "**Deep Convolutional GAN (DCGAN)** uses **transposed convolutional layers** to upscale the feature maps.\n",
    "\n",
    "### What is Conv2DTranspose?\n",
    "\n",
    "- A layer that performs the opposite of a convolution.\n",
    "- Often called **\"deconvolution\"** (but note: it's not the mathematical inverse of convolution).\n",
    "- Expands spatial dimensions: ⬜⬜ => 🔳🔳🔳🔳\n",
    "\n",
    "### Why use it in DCGAN?\n",
    "\n",
    "- **Generator** of DCGAN starts with a small spatial size (e.g., 1x1 or 4x4) and expands to the desired output size (e.g., 64x64).\n",
    "- Transposed convolutions allow for **upsampling** feature maps while learning spatial distributions."
   ]
  },
  {
   "cell_type": "markdown",
   "metadata": {},
   "source": [
    "<img src=\"images/dcgan_generator.png\" width=\"60%\"/>\n",
    "\n",
    "> Image from [this tutorial](https://pytorch.org/tutorials/beginner/dcgan_faces_tutorial.html)"
   ]
  },
  {
   "cell_type": "markdown",
   "metadata": {},
   "source": [
    "<img src=\"./images/border.jpg\" height=\"10\" width=\"1500\" align=\"center\"/>"
   ]
  },
  {
   "cell_type": "code",
   "execution_count": 56,
   "metadata": {},
   "outputs": [],
   "source": [
    "class DCGenerator(nn.Module):\n",
    "    def __init__(self):\n",
    "        super().__init__()\n",
    "        self.conv1 = nn.ConvTranspose2d(100, 256, kernel_size=(3, 3), stride=(2, 2), bias=False)\n",
    "        self.bn1 = nn.BatchNorm2d(256)\n",
    "        self.conv2 = nn.ConvTranspose2d(256, 128, kernel_size=(3, 3), stride=(2, 2), bias=False)\n",
    "        self.bn2 = nn.BatchNorm2d(128)\n",
    "        self.conv3 = nn.ConvTranspose2d(128, 64, kernel_size=(3, 3), stride=(2, 2), bias=False)\n",
    "        self.bn3 = nn.BatchNorm2d(64)\n",
    "        self.conv4 = nn.ConvTranspose2d(64, 1, kernel_size=(3, 3), stride=(2, 2), padding=(2, 2), output_padding=(1, 1), bias=False)\n",
    "        self.tanh = nn.Tanh()\n",
    "        self.relu = nn.ReLU()\n",
    "\n",
    "    def forward(self, input):\n",
    "        hidden1 = self.relu(self.bn1(self.conv1(input)))\n",
    "        hidden2 = self.relu(self.bn2(self.conv2(hidden1)))\n",
    "        hidden3 = self.relu(self.bn3(self.conv3(hidden2)))\n",
    "        generated = self.tanh(self.conv4(hidden3)).view(input.shape[0], 1, 28, 28)\n",
    "        return generated"
   ]
  },
  {
   "cell_type": "markdown",
   "metadata": {},
   "source": [
    "<img src=\"./images/border.jpg\" height=\"10\" width=\"1500\" align=\"center\"/>"
   ]
  },
  {
   "cell_type": "code",
   "execution_count": 57,
   "metadata": {},
   "outputs": [],
   "source": [
    "class DCDiscriminator(nn.Module):\n",
    "    def __init__(self):\n",
    "        super().__init__()\n",
    "        self.conv1 = nn.Conv2d(1, 64, kernel_size=(4, 4), stride=(2, 2), padding=(1, 1), bias=False)\n",
    "        self.conv2 = nn.Conv2d(64, 128, kernel_size=(4, 4), stride=(2, 2), padding=(1, 1), bias=False)\n",
    "        self.bn2 = nn.BatchNorm2d(128)\n",
    "        self.conv3 = nn.Conv2d(128, 256, kernel_size=(4, 4), stride=(2, 2), padding=(1, 1), bias=False)\n",
    "        self.bn3 = nn.BatchNorm2d(256)\n",
    "        self.conv4 = nn.Conv2d(256, 1, kernel_size=(4, 4), stride=(2, 2), padding=(1, 1), bias=False)\n",
    "        self.leaky_relu = nn.LeakyReLU(0.2)\n",
    "        self.sigmoid = nn.Sigmoid()\n",
    "\n",
    "    def forward(self, input):\n",
    "        hidden1 = self.leaky_relu(self.conv1(input))\n",
    "        hidden2 = self.leaky_relu(self.bn2(self.conv2(hidden1)))\n",
    "        hidden3 = self.leaky_relu(self.bn3(self.conv3(hidden2)))\n",
    "        classified = self.sigmoid(self.conv4(hidden3)).view(input.shape[0], -1)\n",
    "        return classified"
   ]
  },
  {
   "cell_type": "markdown",
   "metadata": {},
   "source": [
    "<img src=\"./images/border.jpg\" height=\"10\" width=\"1500\" align=\"center\"/>"
   ]
  },
  {
   "cell_type": "markdown",
   "metadata": {},
   "source": [
    "Weights initialization from [DCGAN](https://arxiv.org/pdf/1511.06434.pdf) paper."
   ]
  },
  {
   "cell_type": "code",
   "execution_count": 58,
   "metadata": {},
   "outputs": [],
   "source": [
    "def weights_init(model):\n",
    "    classname = model.__class__.__name__\n",
    "    if classname.find('Conv') != -1:\n",
    "        nn.init.normal_(model.weight.data, 0.0, 0.02)\n",
    "    elif classname.find('BatchNorm') != -1:\n",
    "        nn.init.normal_(model.weight.data, 1.0, 0.02)\n",
    "        nn.init.constant_(model.bias.data, 0)"
   ]
  },
  {
   "cell_type": "code",
   "execution_count": 59,
   "metadata": {},
   "outputs": [],
   "source": [
    "transform = transforms.Compose([\n",
    "                                transforms.ToTensor(),\n",
    "])"
   ]
  },
  {
   "cell_type": "code",
   "execution_count": 60,
   "metadata": {},
   "outputs": [],
   "source": [
    "train_dataset, test_dataset = mnist(train_size, transform)\n",
    "train_dataloader = torch.utils.data.DataLoader(train_dataset, drop_last=True, batch_size=batch_size, shuffle=True)\n",
    "dataloaders = (train_dataloader, )"
   ]
  },
  {
   "cell_type": "code",
   "execution_count": 61,
   "metadata": {},
   "outputs": [],
   "source": [
    "generator = DCGenerator().to(device)\n",
    "generator.apply(weights_init)\n",
    "discriminator = DCDiscriminator().to(device)\n",
    "discriminator.apply(weights_init)\n",
    "optimizer_generator = optim.Adam(generator.parameters(), lr=lr, weight_decay=weight_decay, betas=(beta1, beta2))\n",
    "optimizer_discriminator = optim.Adam(discriminator.parameters(), lr=lr, weight_decay=weight_decay, betas=(beta1, beta2))\n",
    "loss_fn = nn.BCELoss()\n",
    "\n",
    "models = (generator, discriminator)\n",
    "optimizers = (optimizer_generator, optimizer_discriminator)"
   ]
  },
  {
   "cell_type": "code",
   "execution_count": 62,
   "metadata": {},
   "outputs": [],
   "source": [
    "def dcplotn(n, generator, device):\n",
    "    generator.eval()\n",
    "    noise = torch.FloatTensor(np.random.normal(0, 1, (n, 100, 1, 1))).to(device)\n",
    "    imgs = generator(noise).detach().cpu()\n",
    "    fig, ax = plt.subplots(1, n)\n",
    "    for i, im in enumerate(imgs):\n",
    "        ax[i].imshow(im[0])\n",
    "    plt.show()"
   ]
  },
  {
   "cell_type": "code",
   "execution_count": 63,
   "metadata": {},
   "outputs": [],
   "source": [
    "def train_dcgan(dataloaders, models, optimizers, loss_fn, epochs, plot_every, device):\n",
    "    tqdm_iter = tqdm(range(epochs))\n",
    "    train_dataloader = dataloaders[0]\n",
    "    \n",
    "    gen, disc = models[0], models[1]\n",
    "    optim_gen, optim_disc = optimizers[0], optimizers[1]\n",
    "    \n",
    "    gen.train()\n",
    "    disc.train()\n",
    "\n",
    "    for epoch in tqdm_iter:\n",
    "        train_gen_loss = 0.0\n",
    "        train_disc_loss = 0.0\n",
    "        \n",
    "        test_gen_loss = 0.0\n",
    "        test_disc_loss = 0.0\n",
    "\n",
    "        for batch in train_dataloader:\n",
    "            imgs, _ = batch\n",
    "            imgs = imgs.to(device)\n",
    "            imgs = 2.0 * imgs - 1.0\n",
    "\n",
    "            gen.zero_grad()\n",
    "\n",
    "            noise = torch.FloatTensor(np.random.normal(0.0, 1.0, (imgs.shape[0], 100, 1, 1))).to(device)\n",
    "            real_labels = torch.ones((imgs.shape[0], 1)).to(device)\n",
    "            fake_labels = torch.zeros((imgs.shape[0], 1)).to(device)\n",
    "            \n",
    "            generated = gen(noise)\n",
    "            disc_preds = disc(generated)\n",
    "\n",
    "            g_loss = loss_fn(disc_preds, real_labels)\n",
    "            g_loss.backward()\n",
    "            optim_gen.step()\n",
    "\n",
    "            disc.zero_grad()\n",
    "\n",
    "            disc_real = disc(imgs)\n",
    "            disc_real_loss = loss_fn(disc_real, real_labels)\n",
    "\n",
    "            disc_fake = disc(generated.detach())\n",
    "            disc_fake_loss = loss_fn(disc_fake, fake_labels)\n",
    "\n",
    "            d_loss = (disc_real_loss + disc_fake_loss) / 2.0\n",
    "            d_loss.backward()\n",
    "            optim_disc.step()\n",
    "\n",
    "            train_gen_loss += g_loss.item()\n",
    "            train_disc_loss += d_loss.item()\n",
    "\n",
    "        train_gen_loss /= len(train_dataloader)\n",
    "        train_disc_loss /= len(train_dataloader)\n",
    "\n",
    "        if epoch % plot_every == 0 or epoch == epochs - 1:\n",
    "            dcplotn(5, gen, device)\n",
    "\n",
    "        tqdm_dct = {'generator loss:': train_gen_loss, 'discriminator loss:': train_disc_loss}\n",
    "        tqdm_iter.set_postfix(tqdm_dct, refresh=True)\n",
    "        tqdm_iter.refresh()"
   ]
  },
  {
   "cell_type": "code",
   "execution_count": 64,
   "metadata": {},
   "outputs": [
    {
     "name": "stderr",
     "output_type": "stream",
     "text": [
      "  0%|          | 0/5 [00:00<?, ?it/s]"
     ]
    },
    {
     "data": {
      "image/png": "[encoded data removed]",
      "text/plain": [
       "<Figure size 640x480 with 5 Axes>"
      ]
     },
     "metadata": {},
     "output_type": "display_data"
    },
    {
     "name": "stderr",
     "output_type": "stream",
     "text": [
      " 80%|████████  | 4/5 [05:08<01:15, 75.44s/it, generator loss:=3.04, discriminator loss:=0.139]"
     ]
    },
    {
     "data": {
      "image/png": "[encoded data removed]",
      "text/plain": [
       "<Figure size 640x480 with 5 Axes>"
      ]
     },
     "metadata": {},
     "output_type": "display_data"
    },
    {
     "name": "stderr",
     "output_type": "stream",
     "text": [
      "100%|██████████| 5/5 [06:17<00:00, 75.56s/it, generator loss:=2.71, discriminator loss:=0.2]  \n"
     ]
    }
   ],
   "source": [
    "train_dcgan(dataloaders, models, optimizers, loss_fn, epochs // 2, plot_every // 2, device)"
   ]
  },
  {
   "cell_type": "markdown",
   "metadata": {},
   "source": [
    "<img src=\"./images/border.jpg\" height=\"10\" width=\"1500\" align=\"center\"/>"
   ]
  },
  {
   "cell_type": "code",
   "execution_count": null,
   "metadata": {},
   "outputs": [
    {
     "data": {
      "image/png": "[encoded data removed]",
      "text/plain": [
       "<Figure size 432x288 with 5 Axes>"
      ]
     },
     "metadata": {},
     "output_type": "display_data"
    }
   ],
   "source": [
    "generator.eval()\n",
    "dcplotn(5, generator, device)"
   ]
  },
  {
   "cell_type": "markdown",
   "metadata": {},
   "source": [
    "<img src=\"./images/border.jpg\" height=\"10\" width=\"1500\" align=\"center\"/>"
   ]
  },
  {
   "cell_type": "markdown",
   "metadata": {},
   "source": [
    "> **Task**: Try generating more complex color images with DCGAN - for example, take one class from [CIFAR-10](https://pytorch.org/vision/stable/generated/torchvision.datasets.CIFAR10.html) dataset."
   ]
  },
  {
   "cell_type": "markdown",
   "metadata": {},
   "source": [
    "## Training on Paintings\n",
    "\n",
    "One of the good candidates for GAN training are paintings created by human artists.\n",
    "\n",
    "![](https://soshnikov.com/images/artartificial/Flo1.jpg)\n",
    "\n",
    "(Photo from [Art of Artificial](https://soshnikov.com/museum/art-artificial/) collection)"
   ]
  },
  {
   "cell_type": "markdown",
   "metadata": {},
   "source": [
    "<img src=\"./images/border.jpg\" height=\"10\" width=\"1500\" align=\"center\"/>"
   ]
  }
 ],
 "metadata": {
  "kernelspec": {
   "display_name": "Python 3",
   "language": "python",
   "name": "python3"
  },
  "language_info": {
   "codemirror_mode": {
    "name": "ipython",
    "version": 3
   },
   "file_extension": ".py",
   "mimetype": "text/x-python",
   "name": "python",
   "nbconvert_exporter": "python",
   "pygments_lexer": "ipython3",
   "version": "3.9.6"
  },
  "orig_nbformat": 4
 },
 "nbformat": 4,
 "nbformat_minor": 2
}
